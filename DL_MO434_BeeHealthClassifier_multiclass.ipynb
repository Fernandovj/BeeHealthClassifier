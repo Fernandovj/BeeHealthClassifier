{
  "nbformat": 4,
  "nbformat_minor": 0,
  "metadata": {
    "accelerator": "GPU",
    "colab": {
      "name": "DL_MO434_BeeHealthClassifier_multiclass.ipynb",
      "provenance": [],
      "collapsed_sections": [],
      "include_colab_link": true
    },
    "kernelspec": {
      "display_name": "Python 3",
      "language": "python",
      "name": "python3"
    },
    "language_info": {
      "codemirror_mode": {
        "name": "ipython",
        "version": 3
      },
      "file_extension": ".py",
      "mimetype": "text/x-python",
      "name": "python",
      "nbconvert_exporter": "python",
      "pygments_lexer": "ipython3",
      "version": "3.6.4"
    }
  },
  "cells": [
    {
      "cell_type": "markdown",
      "metadata": {
        "id": "view-in-github",
        "colab_type": "text"
      },
      "source": [
        "<a href=\"https://colab.research.google.com/github/Fernandovj/BeeHealthClassifier/blob/main/DL_MO434_BeeHealthClassifier_multiclass.ipynb\" target=\"_parent\"><img src=\"https://colab.research.google.com/assets/colab-badge.svg\" alt=\"Open In Colab\"/></a>"
      ]
    },
    {
      "cell_type": "markdown",
      "metadata": {
        "id": "TkYbWToTFFX2"
      },
      "source": [
        "# **Load the packages, load and inspect the data**"
      ]
    },
    {
      "cell_type": "code",
      "metadata": {
        "id": "BahCvIkmvvwy"
      },
      "source": [
        "# Import PyDrive and associated libraries.\r\n",
        "# This only needs to be done once per notebook.\r\n",
        "from pydrive.auth import GoogleAuth\r\n",
        "from pydrive.drive import GoogleDrive\r\n",
        "from google.colab import auth\r\n",
        "from oauth2client.client import GoogleCredentials\r\n",
        "\r\n",
        "# Authenticate and create the PyDrive client.\r\n",
        "# This only needs to be done once per notebook.\r\n",
        "auth.authenticate_user()\r\n",
        "gauth = GoogleAuth()\r\n",
        "gauth.credentials = GoogleCredentials.get_application_default()\r\n",
        "drive = GoogleDrive(gauth)\r\n",
        "\r\n",
        "# Download a file based on its file ID.\r\n",
        "# file_id ='1a-GaQxHLWsNk_xVUxI6gPR5akagk9_vB' #ID Colab/bees/bees.zip\r\n",
        "file_id ='1cZT0QTaMMRs_mPghOOAF9-WcvuZ1duZp' #ID Colab/bees/bees.zip\r\n",
        "\r\n",
        "downloaded = drive.CreateFile({'id': file_id})\r\n",
        "downloaded.GetContentFile('bees.zip')\r\n",
        "!unzip -q bees.zip"
      ],
      "execution_count": null,
      "outputs": []
    },
    {
      "cell_type": "code",
      "metadata": {
        "id": "GagWVJrPGDkD"
      },
      "source": [
        "# !rm -rf /content/bee_imgs/"
      ],
      "execution_count": null,
      "outputs": []
    },
    {
      "cell_type": "code",
      "metadata": {
        "colab": {
          "base_uri": "https://localhost:8080/",
          "height": 17
        },
        "id": "s5CA5pXcKYe3",
        "outputId": "d4c3336a-ac80-47c8-8e9e-6b0e361e2293"
      },
      "source": [
        "%matplotlib inline\r\n",
        "import csv\r\n",
        "from random import shuffle\r\n",
        "import cv2 #to read images\r\n",
        "import tensorflow as tf\r\n",
        "from tensorflow import keras\r\n",
        "from tensorflow.keras import layers, models\r\n",
        "from tensorflow.keras.preprocessing.image import ImageDataGenerator, load_img\r\n",
        "from matplotlib import pyplot as plt\r\n",
        "import pandas as pd\r\n",
        "import numpy as np\r\n",
        "import seaborn as sns\r\n",
        "import os\r\n",
        "import sys\r\n",
        "\r\n",
        "import imageio\r\n",
        "import skimage\r\n",
        "import skimage.io\r\n",
        "import skimage.transform\r\n",
        "\r\n",
        "import seaborn as sns\r\n",
        "import plotly.graph_objs as go\r\n",
        "import plotly.figure_factory as ff\r\n",
        "from plotly import tools\r\n",
        "from plotly.offline import download_plotlyjs, init_notebook_mode, plot, iplot\r\n",
        "init_notebook_mode(connected=True)\r\n",
        "\r\n",
        "from sklearn.model_selection import train_test_split\r\n",
        "from sklearn import metrics\r\n",
        "from keras import optimizers\r\n",
        "from keras.models import Sequential\r\n",
        "from keras.layers import Dense, Conv2D, Flatten, MaxPooling2D, Dropout, BatchNormalization,LeakyReLU, Activation\r\n",
        "from keras.preprocessing.image import ImageDataGenerator\r\n",
        "from keras import callbacks"
      ],
      "execution_count": null,
      "outputs": [
        {
          "output_type": "display_data",
          "data": {
            "text/html": [
              "        <script type=\"text/javascript\">\n",
              "        window.PlotlyConfig = {MathJaxConfig: 'local'};\n",
              "        if (window.MathJax) {MathJax.Hub.Config({SVG: {font: \"STIX-Web\"}});}\n",
              "        if (typeof require !== 'undefined') {\n",
              "        require.undef(\"plotly\");\n",
              "        requirejs.config({\n",
              "            paths: {\n",
              "                'plotly': ['https://cdn.plot.ly/plotly-latest.min']\n",
              "            }\n",
              "        });\n",
              "        require(['plotly'], function(Plotly) {\n",
              "            window._Plotly = Plotly;\n",
              "        });\n",
              "        }\n",
              "        </script>\n",
              "        "
            ]
          },
          "metadata": {
            "tags": []
          }
        }
      ]
    },
    {
      "cell_type": "code",
      "metadata": {
        "id": "fHcsc7Qzqd1N"
      },
      "source": [
        "IMG_PATH = '/content/bee_imgs/bee_imgs'\n"
      ],
      "execution_count": null,
      "outputs": []
    },
    {
      "cell_type": "code",
      "metadata": {
        "colab": {
          "base_uri": "https://localhost:8080/",
          "height": 206
        },
        "id": "T26XPjIyKbkl",
        "outputId": "684af163-6924-4333-88bb-87fc2eb717f8"
      },
      "source": [
        "bee_df=pd.read_csv('/content/bee_data.csv')\r\n",
        "bee_df.shape\r\n",
        "bee_df.sample(10).head()"
      ],
      "execution_count": null,
      "outputs": [
        {
          "output_type": "execute_result",
          "data": {
            "text/html": [
              "<div>\n",
              "<style scoped>\n",
              "    .dataframe tbody tr th:only-of-type {\n",
              "        vertical-align: middle;\n",
              "    }\n",
              "\n",
              "    .dataframe tbody tr th {\n",
              "        vertical-align: top;\n",
              "    }\n",
              "\n",
              "    .dataframe thead th {\n",
              "        text-align: right;\n",
              "    }\n",
              "</style>\n",
              "<table border=\"1\" class=\"dataframe\">\n",
              "  <thead>\n",
              "    <tr style=\"text-align: right;\">\n",
              "      <th></th>\n",
              "      <th>file</th>\n",
              "      <th>date</th>\n",
              "      <th>time</th>\n",
              "      <th>location</th>\n",
              "      <th>zip code</th>\n",
              "      <th>subspecies</th>\n",
              "      <th>health</th>\n",
              "      <th>pollen_carrying</th>\n",
              "      <th>caste</th>\n",
              "    </tr>\n",
              "  </thead>\n",
              "  <tbody>\n",
              "    <tr>\n",
              "      <th>41</th>\n",
              "      <td>041_031.png</td>\n",
              "      <td>8/28/18</td>\n",
              "      <td>16:07</td>\n",
              "      <td>Alvin, TX, USA</td>\n",
              "      <td>77511</td>\n",
              "      <td>-1</td>\n",
              "      <td>hive being robbed</td>\n",
              "      <td>False</td>\n",
              "      <td>worker</td>\n",
              "    </tr>\n",
              "    <tr>\n",
              "      <th>1375</th>\n",
              "      <td>005_348.png</td>\n",
              "      <td>7/7/18</td>\n",
              "      <td>12:56</td>\n",
              "      <td>Saratoga, CA, USA</td>\n",
              "      <td>95070</td>\n",
              "      <td>Italian honey bee</td>\n",
              "      <td>healthy</td>\n",
              "      <td>False</td>\n",
              "      <td>worker</td>\n",
              "    </tr>\n",
              "    <tr>\n",
              "      <th>5073</th>\n",
              "      <td>021_106.png</td>\n",
              "      <td>8/8/18</td>\n",
              "      <td>21:13</td>\n",
              "      <td>Saratoga, CA, USA</td>\n",
              "      <td>95070</td>\n",
              "      <td>Italian honey bee</td>\n",
              "      <td>healthy</td>\n",
              "      <td>False</td>\n",
              "      <td>worker</td>\n",
              "    </tr>\n",
              "    <tr>\n",
              "      <th>162</th>\n",
              "      <td>017_118.png</td>\n",
              "      <td>8/6/18</td>\n",
              "      <td>13:21</td>\n",
              "      <td>Saratoga, CA, USA</td>\n",
              "      <td>95070</td>\n",
              "      <td>Italian honey bee</td>\n",
              "      <td>healthy</td>\n",
              "      <td>False</td>\n",
              "      <td>worker</td>\n",
              "    </tr>\n",
              "    <tr>\n",
              "      <th>1755</th>\n",
              "      <td>040_437.png</td>\n",
              "      <td>8/21/18</td>\n",
              "      <td>15:56</td>\n",
              "      <td>Athens, GA, USA</td>\n",
              "      <td>30607</td>\n",
              "      <td>Italian honey bee</td>\n",
              "      <td>few varrao, hive beetles</td>\n",
              "      <td>False</td>\n",
              "      <td>worker</td>\n",
              "    </tr>\n",
              "  </tbody>\n",
              "</table>\n",
              "</div>"
            ],
            "text/plain": [
              "             file     date  ... pollen_carrying   caste\n",
              "41    041_031.png  8/28/18  ...           False  worker\n",
              "1375  005_348.png   7/7/18  ...           False  worker\n",
              "5073  021_106.png   8/8/18  ...           False  worker\n",
              "162   017_118.png   8/6/18  ...           False  worker\n",
              "1755  040_437.png  8/21/18  ...           False  worker\n",
              "\n",
              "[5 rows x 9 columns]"
            ]
          },
          "metadata": {
            "tags": []
          },
          "execution_count": 5
        }
      ]
    },
    {
      "cell_type": "markdown",
      "metadata": {
        "id": "Dph35-x8Icis"
      },
      "source": [
        "The data contains the following values:\r\n",
        "\r\n",
        "    file - the image file name;\r\n",
        "    date - the date when the picture was taken;\r\n",
        "    time - the time when the picture was taken;\r\n",
        "    location - the US location, with city, state and country names;\r\n",
        "    zip code - the ZIP code associated with the location;\r\n",
        "    subspecies - the subspecies to whom the bee in the current image belongs;\r\n",
        "    health - this is the health state of the bee in the current image;\r\n",
        "    pollen_carrying - indicates if the picture shows the bee with pollen attached to the legs;\r\n",
        "    caste - the bee caste;\r\n"
      ]
    },
    {
      "cell_type": "markdown",
      "metadata": {
        "id": "d_5BPuNqJImm"
      },
      "source": [
        "**Check the missing data**"
      ]
    },
    {
      "cell_type": "code",
      "metadata": {
        "colab": {
          "base_uri": "https://localhost:8080/",
          "height": 332
        },
        "id": "dgnCjQX2JFDz",
        "outputId": "e12d9dbf-ce9d-4cbf-e199-2024be85c8ae"
      },
      "source": [
        "def missing_data(data):\r\n",
        "    total = data.isnull().sum().sort_values(ascending = False)\r\n",
        "    percent = (data.isnull().sum()/data.isnull().count()*100).sort_values(ascending = False)\r\n",
        "    return pd.concat([total, percent], axis=1, keys=['Total', '%'])\r\n",
        "missing_data(bee_df)"
      ],
      "execution_count": null,
      "outputs": [
        {
          "output_type": "execute_result",
          "data": {
            "text/html": [
              "<div>\n",
              "<style scoped>\n",
              "    .dataframe tbody tr th:only-of-type {\n",
              "        vertical-align: middle;\n",
              "    }\n",
              "\n",
              "    .dataframe tbody tr th {\n",
              "        vertical-align: top;\n",
              "    }\n",
              "\n",
              "    .dataframe thead th {\n",
              "        text-align: right;\n",
              "    }\n",
              "</style>\n",
              "<table border=\"1\" class=\"dataframe\">\n",
              "  <thead>\n",
              "    <tr style=\"text-align: right;\">\n",
              "      <th></th>\n",
              "      <th>Total</th>\n",
              "      <th>%</th>\n",
              "    </tr>\n",
              "  </thead>\n",
              "  <tbody>\n",
              "    <tr>\n",
              "      <th>caste</th>\n",
              "      <td>0</td>\n",
              "      <td>0.0</td>\n",
              "    </tr>\n",
              "    <tr>\n",
              "      <th>pollen_carrying</th>\n",
              "      <td>0</td>\n",
              "      <td>0.0</td>\n",
              "    </tr>\n",
              "    <tr>\n",
              "      <th>health</th>\n",
              "      <td>0</td>\n",
              "      <td>0.0</td>\n",
              "    </tr>\n",
              "    <tr>\n",
              "      <th>subspecies</th>\n",
              "      <td>0</td>\n",
              "      <td>0.0</td>\n",
              "    </tr>\n",
              "    <tr>\n",
              "      <th>zip code</th>\n",
              "      <td>0</td>\n",
              "      <td>0.0</td>\n",
              "    </tr>\n",
              "    <tr>\n",
              "      <th>location</th>\n",
              "      <td>0</td>\n",
              "      <td>0.0</td>\n",
              "    </tr>\n",
              "    <tr>\n",
              "      <th>time</th>\n",
              "      <td>0</td>\n",
              "      <td>0.0</td>\n",
              "    </tr>\n",
              "    <tr>\n",
              "      <th>date</th>\n",
              "      <td>0</td>\n",
              "      <td>0.0</td>\n",
              "    </tr>\n",
              "    <tr>\n",
              "      <th>file</th>\n",
              "      <td>0</td>\n",
              "      <td>0.0</td>\n",
              "    </tr>\n",
              "  </tbody>\n",
              "</table>\n",
              "</div>"
            ],
            "text/plain": [
              "                 Total    %\n",
              "caste                0  0.0\n",
              "pollen_carrying      0  0.0\n",
              "health               0  0.0\n",
              "subspecies           0  0.0\n",
              "zip code             0  0.0\n",
              "location             0  0.0\n",
              "time                 0  0.0\n",
              "date                 0  0.0\n",
              "file                 0  0.0"
            ]
          },
          "metadata": {
            "tags": []
          },
          "execution_count": 7
        }
      ]
    },
    {
      "cell_type": "code",
      "metadata": {
        "colab": {
          "base_uri": "https://localhost:8080/"
        },
        "id": "CnUP03YDqd1U",
        "outputId": "40007995-854b-4bdd-d835-dd6f1e162af8"
      },
      "source": [
        "image_files = list(os.listdir(IMG_PATH))\n",
        "print(\"Number of image files: {}\".format(len(image_files)))"
      ],
      "execution_count": null,
      "outputs": [
        {
          "output_type": "stream",
          "text": [
            "Number of image files: 5172\n"
          ],
          "name": "stdout"
        }
      ]
    },
    {
      "cell_type": "markdown",
      "metadata": {
        "id": "svclkAoUK3Lv"
      },
      "source": [
        "Checking the image sizes"
      ]
    },
    {
      "cell_type": "code",
      "metadata": {
        "id": "GLC5lxnLK4we"
      },
      "source": [
        "def read_image_sizes(file_name):\r\n",
        "    image = skimage.io.imread(IMG_PATH+'/'+ file_name)\r\n",
        "    return list(image.shape)"
      ],
      "execution_count": null,
      "outputs": []
    },
    {
      "cell_type": "code",
      "metadata": {
        "colab": {
          "base_uri": "https://localhost:8080/",
          "height": 206
        },
        "id": "LY_Bi24dK5iD",
        "outputId": "71d29785-a362-4aec-d9da-148193da3933"
      },
      "source": [
        "m = np.stack(bee_df['file'].apply(read_image_sizes))\r\n",
        "df = pd.DataFrame(m,columns=['w','h','c'])\r\n",
        "bee_df = pd.concat([bee_df,df],axis=1, sort=False)\r\n",
        "bee_df.head()"
      ],
      "execution_count": null,
      "outputs": [
        {
          "output_type": "execute_result",
          "data": {
            "text/html": [
              "<div>\n",
              "<style scoped>\n",
              "    .dataframe tbody tr th:only-of-type {\n",
              "        vertical-align: middle;\n",
              "    }\n",
              "\n",
              "    .dataframe tbody tr th {\n",
              "        vertical-align: top;\n",
              "    }\n",
              "\n",
              "    .dataframe thead th {\n",
              "        text-align: right;\n",
              "    }\n",
              "</style>\n",
              "<table border=\"1\" class=\"dataframe\">\n",
              "  <thead>\n",
              "    <tr style=\"text-align: right;\">\n",
              "      <th></th>\n",
              "      <th>file</th>\n",
              "      <th>date</th>\n",
              "      <th>time</th>\n",
              "      <th>location</th>\n",
              "      <th>zip code</th>\n",
              "      <th>subspecies</th>\n",
              "      <th>health</th>\n",
              "      <th>pollen_carrying</th>\n",
              "      <th>caste</th>\n",
              "      <th>w</th>\n",
              "      <th>h</th>\n",
              "      <th>c</th>\n",
              "    </tr>\n",
              "  </thead>\n",
              "  <tbody>\n",
              "    <tr>\n",
              "      <th>0</th>\n",
              "      <td>041_066.png</td>\n",
              "      <td>8/28/18</td>\n",
              "      <td>16:07</td>\n",
              "      <td>Alvin, TX, USA</td>\n",
              "      <td>77511</td>\n",
              "      <td>-1</td>\n",
              "      <td>hive being robbed</td>\n",
              "      <td>False</td>\n",
              "      <td>worker</td>\n",
              "      <td>115</td>\n",
              "      <td>164</td>\n",
              "      <td>3</td>\n",
              "    </tr>\n",
              "    <tr>\n",
              "      <th>1</th>\n",
              "      <td>041_072.png</td>\n",
              "      <td>8/28/18</td>\n",
              "      <td>16:07</td>\n",
              "      <td>Alvin, TX, USA</td>\n",
              "      <td>77511</td>\n",
              "      <td>-1</td>\n",
              "      <td>hive being robbed</td>\n",
              "      <td>False</td>\n",
              "      <td>worker</td>\n",
              "      <td>201</td>\n",
              "      <td>90</td>\n",
              "      <td>3</td>\n",
              "    </tr>\n",
              "    <tr>\n",
              "      <th>2</th>\n",
              "      <td>041_073.png</td>\n",
              "      <td>8/28/18</td>\n",
              "      <td>16:07</td>\n",
              "      <td>Alvin, TX, USA</td>\n",
              "      <td>77511</td>\n",
              "      <td>-1</td>\n",
              "      <td>hive being robbed</td>\n",
              "      <td>False</td>\n",
              "      <td>worker</td>\n",
              "      <td>132</td>\n",
              "      <td>167</td>\n",
              "      <td>3</td>\n",
              "    </tr>\n",
              "    <tr>\n",
              "      <th>3</th>\n",
              "      <td>041_067.png</td>\n",
              "      <td>8/28/18</td>\n",
              "      <td>16:07</td>\n",
              "      <td>Alvin, TX, USA</td>\n",
              "      <td>77511</td>\n",
              "      <td>-1</td>\n",
              "      <td>hive being robbed</td>\n",
              "      <td>False</td>\n",
              "      <td>worker</td>\n",
              "      <td>134</td>\n",
              "      <td>97</td>\n",
              "      <td>3</td>\n",
              "    </tr>\n",
              "    <tr>\n",
              "      <th>4</th>\n",
              "      <td>041_059.png</td>\n",
              "      <td>8/28/18</td>\n",
              "      <td>16:07</td>\n",
              "      <td>Alvin, TX, USA</td>\n",
              "      <td>77511</td>\n",
              "      <td>-1</td>\n",
              "      <td>hive being robbed</td>\n",
              "      <td>False</td>\n",
              "      <td>worker</td>\n",
              "      <td>147</td>\n",
              "      <td>106</td>\n",
              "      <td>3</td>\n",
              "    </tr>\n",
              "  </tbody>\n",
              "</table>\n",
              "</div>"
            ],
            "text/plain": [
              "          file     date   time        location  ...   caste    w    h  c\n",
              "0  041_066.png  8/28/18  16:07  Alvin, TX, USA  ...  worker  115  164  3\n",
              "1  041_072.png  8/28/18  16:07  Alvin, TX, USA  ...  worker  201   90  3\n",
              "2  041_073.png  8/28/18  16:07  Alvin, TX, USA  ...  worker  132  167  3\n",
              "3  041_067.png  8/28/18  16:07  Alvin, TX, USA  ...  worker  134   97  3\n",
              "4  041_059.png  8/28/18  16:07  Alvin, TX, USA  ...  worker  147  106  3\n",
              "\n",
              "[5 rows x 12 columns]"
            ]
          },
          "metadata": {
            "tags": []
          },
          "execution_count": 10
        }
      ]
    },
    {
      "cell_type": "markdown",
      "metadata": {
        "id": "URa5krHuMrWo"
      },
      "source": [
        "Checking the size distribution of images"
      ]
    },
    {
      "cell_type": "code",
      "metadata": {
        "colab": {
          "base_uri": "https://localhost:8080/",
          "height": 312
        },
        "id": "Pz5LmunDMqPL",
        "outputId": "ede8ee9f-b68e-4439-f39f-3417b697cf11"
      },
      "source": [
        "fig, (ax1,ax2) = plt.subplots(nrows=2)\r\n",
        "ax1.hist(bee_df['h'],bins=4,edgecolor='black')\r\n",
        "ax1.set_ylabel('Number of samples')\r\n",
        "ax1.set_xlabel('Height')\r\n",
        "ax1.set_title('Size image Distribution')\r\n",
        "plt.subplots_adjust(hspace = 0.5)\r\n",
        "ax2.hist(bee_df['w'],bins=4,edgecolor='black')\r\n",
        "ax2.set_ylabel('Number of samples')\r\n",
        "ax2.set_xlabel('Width')"
      ],
      "execution_count": null,
      "outputs": [
        {
          "output_type": "execute_result",
          "data": {
            "text/plain": [
              "Text(0.5, 0, 'Width')"
            ]
          },
          "metadata": {
            "tags": []
          },
          "execution_count": 11
        },
        {
          "output_type": "display_data",
          "data": {
            "image/png": "[encoded data removed]",
            "text/plain": [
              "<Figure size 432x288 with 2 Axes>"
            ]
          },
          "metadata": {
            "tags": [],
            "needs_background": "light"
          }
        }
      ]
    },
    {
      "cell_type": "markdown",
      "metadata": {
        "id": "utQTvHCnT3tD"
      },
      "source": [
        "Health sample distribution"
      ]
    },
    {
      "cell_type": "code",
      "metadata": {
        "colab": {
          "base_uri": "https://localhost:8080/",
          "height": 421
        },
        "id": "vqDW35bYT6qj",
        "outputId": "7addaf37-2d25-4b9f-e9fb-e9b84b2ef17e"
      },
      "source": [
        "print(bee_df.health.value_counts())\r\n",
        "print()\r\n",
        "bee_df.health.value_counts().sort_values().plot(kind = 'barh',edgecolor='black')\r\n"
      ],
      "execution_count": null,
      "outputs": [
        {
          "output_type": "stream",
          "text": [
            "healthy                       3384\n",
            "few varrao, hive beetles       579\n",
            "Varroa, Small Hive Beetles     472\n",
            "ant problems                   457\n",
            "hive being robbed              251\n",
            "missing queen                   29\n",
            "Name: health, dtype: int64\n",
            "\n"
          ],
          "name": "stdout"
        },
        {
          "output_type": "execute_result",
          "data": {
            "text/plain": [
              "<matplotlib.axes._subplots.AxesSubplot at 0x7fe86fed77b8>"
            ]
          },
          "metadata": {
            "tags": []
          },
          "execution_count": 12
        },
        {
          "output_type": "display_data",
          "data": {
            "image/png": "[encoded data removed]",
            "text/plain": [
              "<Figure size 432x288 with 1 Axes>"
            ]
          },
          "metadata": {
            "tags": [],
            "needs_background": "light"
          }
        }
      ]
    },
    {
      "cell_type": "markdown",
      "metadata": {
        "id": "7MVZPJvJJERk"
      },
      "source": [
        "Healt sample size distribution"
      ]
    },
    {
      "cell_type": "code",
      "metadata": {
        "colab": {
          "base_uri": "https://localhost:8080/",
          "height": 367
        },
        "id": "Rck1gm1wFcUT",
        "outputId": "3a680b44-1f70-45c4-c3dc-428d1b4a4f87"
      },
      "source": [
        "plt.figure(figsize=(8,5))\r\n",
        "ax =sns.scatterplot(x='h', y='w', data=bee_df, hue=\"health\")\r\n",
        "ax.set(xlabel='Height', ylabel='Width')\r\n",
        "plt.title('Healt sample size distribution')\r\n"
      ],
      "execution_count": null,
      "outputs": [
        {
          "output_type": "execute_result",
          "data": {
            "text/plain": [
              "Text(0.5, 1.0, 'Healt sample size distribution')"
            ]
          },
          "metadata": {
            "tags": []
          },
          "execution_count": 13
        },
        {
          "output_type": "display_data",
          "data": {
            "image/png": "[encoded data removed]",
            "text/plain": [
              "<Figure size 576x360 with 1 Axes>"
            ]
          },
          "metadata": {
            "tags": [],
            "needs_background": "light"
          }
        }
      ]
    },
    {
      "cell_type": "markdown",
      "metadata": {
        "id": "yISVAeo3kwiy"
      },
      "source": [
        "## **BASELINE**"
      ]
    },
    {
      "cell_type": "markdown",
      "metadata": {
        "id": "tHZyNfRbqo7R"
      },
      "source": [
        "**Splitting data**\r\n",
        "\r\n",
        "First, we split the whole dataset in train and test. We will use random_state to ensure reproductibility of results.\r\n",
        "\r\n",
        "The train-test split is 80% for training set and 20% for test set."
      ]
    },
    {
      "cell_type": "code",
      "metadata": {
        "id": "kcdo_Hi6pqzX"
      },
      "source": [
        "train_df, test_df = train_test_split(bee_df, test_size=0.2, random_state=2018,stratify=bee_df['health'])"
      ],
      "execution_count": null,
      "outputs": []
    },
    {
      "cell_type": "markdown",
      "metadata": {
        "id": "jCFGzDlhq2AP"
      },
      "source": [
        "Next, we will split further the train set in train and validation. We want to use as well a validation set to be able to measure not only how well fits the model the train data during training (or how well learns the training data) but also how well the model is able to generalize so that we are able to understands not only the bias but also the variance of the model.\r\n",
        "\r\n",
        "The train-validation split is 80% for training set and 20% for validation set.\r\n"
      ]
    },
    {
      "cell_type": "code",
      "metadata": {
        "id": "upwSawYoqNji"
      },
      "source": [
        "train_df, val_df = train_test_split(train_df, test_size=0.2, random_state=2018, stratify=train_df['health'])\r\n"
      ],
      "execution_count": null,
      "outputs": []
    },
    {
      "cell_type": "code",
      "metadata": {
        "colab": {
          "base_uri": "https://localhost:8080/"
        },
        "id": "CiErAm7UqV99",
        "outputId": "a20cc771-c361-4c45-8376-48e17a241dea"
      },
      "source": [
        "print(\"Train set samples: {}\".format(train_df.shape[0]))\r\n",
        "print(\"Test  set samples: {}\".format(test_df.shape[0]))\r\n",
        "print(\"Val   set samples: {}\".format(val_df.shape[0]))"
      ],
      "execution_count": null,
      "outputs": [
        {
          "output_type": "stream",
          "text": [
            "Train set samples: 3309\n",
            "Test  set samples: 1035\n",
            "Val   set samples: 828\n"
          ],
          "name": "stdout"
        }
      ]
    },
    {
      "cell_type": "markdown",
      "metadata": {
        "id": "T6_-H6SMrKN_"
      },
      "source": [
        "A function for reading images from the image files, scale all images to 100 x 100\r\n",
        " x 3 (channels)."
      ]
    },
    {
      "cell_type": "code",
      "metadata": {
        "id": "9Tbs_0WGo8CB"
      },
      "source": [
        "def read_image(file_name):\r\n",
        "    image = skimage.io.imread(IMG_PATH +'/'+ file_name)\r\n",
        "    image = skimage.transform.resize(image, (100, 100), mode='reflect')\r\n",
        "    return image[:,:,:3]"
      ],
      "execution_count": null,
      "outputs": []
    },
    {
      "cell_type": "code",
      "metadata": {
        "id": "sNov6y5mo51Z"
      },
      "source": [
        "def categories_encoder(dataset, var='health'):\r\n",
        "    X = np.stack(dataset['file'].apply(read_image))\r\n",
        "    y = pd.get_dummies(dataset[var], drop_first=False)\r\n",
        "    return X, y"
      ],
      "execution_count": null,
      "outputs": []
    },
    {
      "cell_type": "code",
      "metadata": {
        "id": "d-evDhGPrYLJ"
      },
      "source": [
        "X_train, y_train = categories_encoder(train_df)\r\n",
        "X_val, y_val = categories_encoder(val_df)\r\n",
        "X_test, y_test = categories_encoder(test_df)\r\n"
      ],
      "execution_count": null,
      "outputs": []
    },
    {
      "cell_type": "markdown",
      "metadata": {
        "id": "gMkHgBEtuLto"
      },
      "source": [
        "**Define baseline model**"
      ]
    },
    {
      "cell_type": "code",
      "metadata": {
        "colab": {
          "base_uri": "https://localhost:8080/"
        },
        "id": "3lI4BRxKuJyT",
        "outputId": "c4b667ca-15bb-4a4e-81a3-131da3a54bca"
      },
      "source": [
        "\r\n",
        "model_baseline = Sequential()\r\n",
        "model_baseline.add(Conv2D(10,3,3, input_shape=(100,100,3)))\r\n",
        "model_baseline.add(MaxPooling2D(pool_size=(2,2)))\r\n",
        "model_baseline.add(Flatten())\r\n",
        "model_baseline.add(Dense(6, activation=\"softmax\"))\r\n",
        "model_baseline.summary()\r\n",
        "\r\n",
        "#smaller learning rate to optimize better. Default has periodic dips\r\n",
        "model_baseline.compile(optimizer=optimizers.Adam(lr=0.0005), loss=\"categorical_crossentropy\",metrics=[\"accuracy\"])\r\n"
      ],
      "execution_count": null,
      "outputs": [
        {
          "output_type": "stream",
          "text": [
            "Model: \"sequential\"\n",
            "_________________________________________________________________\n",
            "Layer (type)                 Output Shape              Param #   \n",
            "=================================================================\n",
            "conv2d (Conv2D)              (None, 33, 33, 10)        280       \n",
            "_________________________________________________________________\n",
            "max_pooling2d (MaxPooling2D) (None, 16, 16, 10)        0         \n",
            "_________________________________________________________________\n",
            "flatten (Flatten)            (None, 2560)              0         \n",
            "_________________________________________________________________\n",
            "dense (Dense)                (None, 6)                 15366     \n",
            "=================================================================\n",
            "Total params: 15,646\n",
            "Trainable params: 15,646\n",
            "Non-trainable params: 0\n",
            "_________________________________________________________________\n"
          ],
          "name": "stdout"
        }
      ]
    },
    {
      "cell_type": "code",
      "metadata": {
        "id": "1up8Ugg23tBq"
      },
      "source": [
        "train_batch = ImageDataGenerator().flow(X_train, y_train, batch_size=32)\r\n",
        "valid_batch = ImageDataGenerator().flow(X_val, y_val, batch_size=32)\r\n",
        "test_batch = ImageDataGenerator().flow(X_test, y_test, batch_size=32)"
      ],
      "execution_count": null,
      "outputs": []
    },
    {
      "cell_type": "code",
      "metadata": {
        "colab": {
          "base_uri": "https://localhost:8080/"
        },
        "id": "h7p_9mDsu9ww",
        "outputId": "1b1cac96-7005-46dd-fe5c-93e810432368"
      },
      "source": [
        "history_baseline  = model_baseline.fit(train_batch, validation_data=valid_batch, epochs=50)"
      ],
      "execution_count": null,
      "outputs": [
        {
          "output_type": "stream",
          "text": [
            "Epoch 1/50\n",
            "104/104 [==============================] - 8s 10ms/step - loss: 1.1863 - accuracy: 0.6232 - val_loss: 0.9757 - val_accuracy: 0.6751\n",
            "Epoch 2/50\n",
            "104/104 [==============================] - 1s 6ms/step - loss: 0.8988 - accuracy: 0.6958 - val_loss: 0.8321 - val_accuracy: 0.7138\n",
            "Epoch 3/50\n",
            "104/104 [==============================] - 1s 6ms/step - loss: 0.7694 - accuracy: 0.7315 - val_loss: 0.7599 - val_accuracy: 0.7585\n",
            "Epoch 4/50\n",
            "104/104 [==============================] - 1s 6ms/step - loss: 0.7262 - accuracy: 0.7272 - val_loss: 0.6973 - val_accuracy: 0.7428\n",
            "Epoch 5/50\n",
            "104/104 [==============================] - 1s 6ms/step - loss: 0.6660 - accuracy: 0.7488 - val_loss: 0.6363 - val_accuracy: 0.7693\n",
            "Epoch 6/50\n",
            "104/104 [==============================] - 1s 6ms/step - loss: 0.5953 - accuracy: 0.7778 - val_loss: 0.6198 - val_accuracy: 0.7645\n",
            "Epoch 7/50\n",
            "104/104 [==============================] - 1s 6ms/step - loss: 0.5809 - accuracy: 0.7760 - val_loss: 0.5863 - val_accuracy: 0.7838\n",
            "Epoch 8/50\n",
            "104/104 [==============================] - 1s 6ms/step - loss: 0.5492 - accuracy: 0.7943 - val_loss: 0.5715 - val_accuracy: 0.7935\n",
            "Epoch 9/50\n",
            "104/104 [==============================] - 1s 6ms/step - loss: 0.5279 - accuracy: 0.8067 - val_loss: 0.5639 - val_accuracy: 0.7947\n",
            "Epoch 10/50\n",
            "104/104 [==============================] - 1s 6ms/step - loss: 0.5259 - accuracy: 0.8073 - val_loss: 0.5692 - val_accuracy: 0.8043\n",
            "Epoch 11/50\n",
            "104/104 [==============================] - 1s 7ms/step - loss: 0.4836 - accuracy: 0.8244 - val_loss: 0.5242 - val_accuracy: 0.8116\n",
            "Epoch 12/50\n",
            "104/104 [==============================] - 1s 6ms/step - loss: 0.4883 - accuracy: 0.8269 - val_loss: 0.5356 - val_accuracy: 0.8092\n",
            "Epoch 13/50\n",
            "104/104 [==============================] - 1s 6ms/step - loss: 0.4607 - accuracy: 0.8445 - val_loss: 0.5148 - val_accuracy: 0.8104\n",
            "Epoch 14/50\n",
            "104/104 [==============================] - 1s 6ms/step - loss: 0.4614 - accuracy: 0.8281 - val_loss: 0.5262 - val_accuracy: 0.7995\n",
            "Epoch 15/50\n",
            "104/104 [==============================] - 1s 6ms/step - loss: 0.4627 - accuracy: 0.8332 - val_loss: 0.5145 - val_accuracy: 0.8225\n",
            "Epoch 16/50\n",
            "104/104 [==============================] - 1s 6ms/step - loss: 0.4433 - accuracy: 0.8284 - val_loss: 0.5003 - val_accuracy: 0.8237\n",
            "Epoch 17/50\n",
            "104/104 [==============================] - 1s 6ms/step - loss: 0.4353 - accuracy: 0.8397 - val_loss: 0.5124 - val_accuracy: 0.8273\n",
            "Epoch 18/50\n",
            "104/104 [==============================] - 1s 6ms/step - loss: 0.4168 - accuracy: 0.8542 - val_loss: 0.4846 - val_accuracy: 0.8285\n",
            "Epoch 19/50\n",
            "104/104 [==============================] - 1s 6ms/step - loss: 0.4181 - accuracy: 0.8535 - val_loss: 0.5083 - val_accuracy: 0.8176\n",
            "Epoch 20/50\n",
            "104/104 [==============================] - 1s 6ms/step - loss: 0.4010 - accuracy: 0.8582 - val_loss: 0.4787 - val_accuracy: 0.8297\n",
            "Epoch 21/50\n",
            "104/104 [==============================] - 1s 6ms/step - loss: 0.3918 - accuracy: 0.8672 - val_loss: 0.4914 - val_accuracy: 0.8200\n",
            "Epoch 22/50\n",
            "104/104 [==============================] - 1s 6ms/step - loss: 0.3915 - accuracy: 0.8632 - val_loss: 0.5094 - val_accuracy: 0.8200\n",
            "Epoch 23/50\n",
            "104/104 [==============================] - 1s 6ms/step - loss: 0.3963 - accuracy: 0.8563 - val_loss: 0.4802 - val_accuracy: 0.8297\n",
            "Epoch 24/50\n",
            "104/104 [==============================] - 1s 6ms/step - loss: 0.3816 - accuracy: 0.8572 - val_loss: 0.4770 - val_accuracy: 0.8273\n",
            "Epoch 25/50\n",
            "104/104 [==============================] - 1s 6ms/step - loss: 0.3655 - accuracy: 0.8769 - val_loss: 0.4882 - val_accuracy: 0.8176\n",
            "Epoch 26/50\n",
            "104/104 [==============================] - 1s 6ms/step - loss: 0.3712 - accuracy: 0.8642 - val_loss: 0.4808 - val_accuracy: 0.8333\n",
            "Epoch 27/50\n",
            "104/104 [==============================] - 1s 6ms/step - loss: 0.3685 - accuracy: 0.8732 - val_loss: 0.4744 - val_accuracy: 0.8357\n",
            "Epoch 28/50\n",
            "104/104 [==============================] - 1s 6ms/step - loss: 0.3404 - accuracy: 0.8869 - val_loss: 0.4814 - val_accuracy: 0.8237\n",
            "Epoch 29/50\n",
            "104/104 [==============================] - 1s 6ms/step - loss: 0.3535 - accuracy: 0.8678 - val_loss: 0.4676 - val_accuracy: 0.8261\n",
            "Epoch 30/50\n",
            "104/104 [==============================] - 1s 6ms/step - loss: 0.3471 - accuracy: 0.8712 - val_loss: 0.4778 - val_accuracy: 0.8285\n",
            "Epoch 31/50\n",
            "104/104 [==============================] - 1s 6ms/step - loss: 0.3371 - accuracy: 0.8829 - val_loss: 0.4570 - val_accuracy: 0.8406\n",
            "Epoch 32/50\n",
            "104/104 [==============================] - 1s 6ms/step - loss: 0.3561 - accuracy: 0.8773 - val_loss: 0.4590 - val_accuracy: 0.8382\n",
            "Epoch 33/50\n",
            "104/104 [==============================] - 1s 6ms/step - loss: 0.3595 - accuracy: 0.8655 - val_loss: 0.4768 - val_accuracy: 0.8261\n",
            "Epoch 34/50\n",
            "104/104 [==============================] - 1s 6ms/step - loss: 0.3409 - accuracy: 0.8778 - val_loss: 0.4540 - val_accuracy: 0.8382\n",
            "Epoch 35/50\n",
            "104/104 [==============================] - 1s 6ms/step - loss: 0.3295 - accuracy: 0.8751 - val_loss: 0.4611 - val_accuracy: 0.8442\n",
            "Epoch 36/50\n",
            "104/104 [==============================] - 1s 6ms/step - loss: 0.3229 - accuracy: 0.8830 - val_loss: 0.4546 - val_accuracy: 0.8297\n",
            "Epoch 37/50\n",
            "104/104 [==============================] - 1s 6ms/step - loss: 0.3437 - accuracy: 0.8745 - val_loss: 0.4947 - val_accuracy: 0.8176\n",
            "Epoch 38/50\n",
            "104/104 [==============================] - 1s 6ms/step - loss: 0.3147 - accuracy: 0.8870 - val_loss: 0.4516 - val_accuracy: 0.8370\n",
            "Epoch 39/50\n",
            "104/104 [==============================] - 1s 6ms/step - loss: 0.3198 - accuracy: 0.8840 - val_loss: 0.4628 - val_accuracy: 0.8333\n",
            "Epoch 40/50\n",
            "104/104 [==============================] - 1s 6ms/step - loss: 0.3204 - accuracy: 0.8938 - val_loss: 0.4507 - val_accuracy: 0.8370\n",
            "Epoch 41/50\n",
            "104/104 [==============================] - 1s 6ms/step - loss: 0.3083 - accuracy: 0.8843 - val_loss: 0.4583 - val_accuracy: 0.8333\n",
            "Epoch 42/50\n",
            "104/104 [==============================] - 1s 6ms/step - loss: 0.3098 - accuracy: 0.8924 - val_loss: 0.4889 - val_accuracy: 0.8188\n",
            "Epoch 43/50\n",
            "104/104 [==============================] - 1s 6ms/step - loss: 0.3180 - accuracy: 0.8912 - val_loss: 0.4684 - val_accuracy: 0.8418\n",
            "Epoch 44/50\n",
            "104/104 [==============================] - 1s 6ms/step - loss: 0.2826 - accuracy: 0.8994 - val_loss: 0.4667 - val_accuracy: 0.8309\n",
            "Epoch 45/50\n",
            "104/104 [==============================] - 1s 6ms/step - loss: 0.2841 - accuracy: 0.8972 - val_loss: 0.4519 - val_accuracy: 0.8321\n",
            "Epoch 46/50\n",
            "104/104 [==============================] - 1s 6ms/step - loss: 0.2825 - accuracy: 0.9078 - val_loss: 0.4440 - val_accuracy: 0.8370\n",
            "Epoch 47/50\n",
            "104/104 [==============================] - 1s 6ms/step - loss: 0.2837 - accuracy: 0.9018 - val_loss: 0.4781 - val_accuracy: 0.8297\n",
            "Epoch 48/50\n",
            "104/104 [==============================] - 1s 6ms/step - loss: 0.2972 - accuracy: 0.8930 - val_loss: 0.5062 - val_accuracy: 0.8188\n",
            "Epoch 49/50\n",
            "104/104 [==============================] - 1s 6ms/step - loss: 0.2629 - accuracy: 0.9184 - val_loss: 0.4425 - val_accuracy: 0.8370\n",
            "Epoch 50/50\n",
            "104/104 [==============================] - 1s 6ms/step - loss: 0.2808 - accuracy: 0.9040 - val_loss: 0.4614 - val_accuracy: 0.8430\n"
          ],
          "name": "stdout"
        }
      ]
    },
    {
      "cell_type": "code",
      "metadata": {
        "id": "hJ7v5WhikJRx"
      },
      "source": [
        "#Auxiliar fuctions for plotting:\r\n",
        "\r\n",
        "def plot_loss_accuracy_list(historyList, title, legend, plotSet=\"both\", acc=\"accuracy\"):\r\n",
        "    linestyles = ['-', '--', ':', '-.']\r\n",
        "    fig, (ax1, ax2) = plt.subplots(nrows=2, sharex=True, dpi=100)\r\n",
        "\r\n",
        "    #Plot Loss\r\n",
        "    for idx,hist in enumerate(historyList):\r\n",
        "        if plotSet in [\"train\", \"both\"]:\r\n",
        "            ax1.plot(hist.history['loss'], linestyle=linestyles[idx%len(linestyles)])\r\n",
        "        if 'val_loss' in hist.history.keys() and plotSet in [\"valid\", \"both\"]:\r\n",
        "            ax1.plot(hist.history['val_loss'], linestyle=linestyles[idx%len(linestyles)])\r\n",
        "    ax1.set_ylabel('Loss')\r\n",
        "    ax1.set_title(title)\r\n",
        "\r\n",
        "    #Plot ACC\r\n",
        "    for idx,hist in enumerate(historyList):\r\n",
        "      if plotSet in [\"train\", \"both\"]:\r\n",
        "          ax2.plot(hist.history[acc], linestyle=linestyles[idx%len(linestyles)])\r\n",
        "      if 'val_'+acc in hist.history.keys() and plotSet in [\"valid\", \"both\"]:\r\n",
        "          ax2.plot(hist.history['val_'+acc], linestyle=linestyles[idx%len(linestyles)])\r\n",
        "    ax2.set_ylabel('ACC')\r\n",
        "    \r\n",
        "    #plt.legend(legend, bbox_to_anchor=(1.05, 1), loc='upper right') \r\n",
        "    plt.legend(legend, loc='lower right') \r\n",
        "    plt.subplots_adjust(right=0.75)\r\n",
        "    plt.show()\r\n"
      ],
      "execution_count": null,
      "outputs": []
    },
    {
      "cell_type": "code",
      "metadata": {
        "colab": {
          "base_uri": "https://localhost:8080/",
          "height": 385
        },
        "id": "tsDEIXEakm0c",
        "outputId": "11586dcd-b620-490a-aa24-6b53e03408f8"
      },
      "source": [
        "legend = ['Training', 'Validation']\r\n",
        "#print(history.history)\r\n",
        "plot_loss_accuracy_list([history_baseline], \"Baseline Model\", legend)"
      ],
      "execution_count": null,
      "outputs": [
        {
          "output_type": "display_data",
          "data": {
            "image/png": "[encoded data removed]",
            "text/plain": [
              "<Figure size 600x400 with 2 Axes>"
            ]
          },
          "metadata": {
            "tags": [],
            "needs_background": "light"
          }
        }
      ]
    },
    {
      "cell_type": "markdown",
      "metadata": {
        "id": "YGhGX6ooG2Q-"
      },
      "source": [
        "## **REFINED SOLUTION**\n",
        "\n",
        "We now refine the baseline model to improve the performance. \n",
        "\n"
      ]
    },
    {
      "cell_type": "markdown",
      "metadata": {
        "id": "-4aCOWI6Qyx8"
      },
      "source": [
        "First, we add a dropout layer to cope with overfitting:\n"
      ]
    },
    {
      "cell_type": "code",
      "metadata": {
        "colab": {
          "base_uri": "https://localhost:8080/"
        },
        "id": "qX6sJuK1G9vT",
        "outputId": "3034a405-5e75-4298-ac72-6f71d8a9e09e"
      },
      "source": [
        "model_refined1 = Sequential()\n",
        "model_refined1.add(Conv2D(10,3,3, input_shape=(100,100,3)))\n",
        "model_refined1.add(MaxPooling2D(pool_size=(2,2),padding=\"SAME\"))\n",
        "model_refined1.add(Flatten())\n",
        "model_refined1.add(Dense(200, activation=\"relu\"))\n",
        "model_refined1.add(Dropout(0.2))\n",
        "model_refined1.add(Dense(6, activation=\"softmax\"))\n",
        "model_refined1.summary()\n",
        "\n",
        "model_refined1.compile(optimizer=optimizers.Adam(lr=0.0005), loss=\"categorical_crossentropy\",metrics=[\"accuracy\"])\n",
        "history_refined1  = model_refined1.fit(train_batch, validation_data=valid_batch, epochs=50)\n"
      ],
      "execution_count": null,
      "outputs": [
        {
          "output_type": "stream",
          "text": [
            "Model: \"sequential_1\"\n",
            "_________________________________________________________________\n",
            "Layer (type)                 Output Shape              Param #   \n",
            "=================================================================\n",
            "conv2d_1 (Conv2D)            (None, 33, 33, 10)        280       \n",
            "_________________________________________________________________\n",
            "max_pooling2d_1 (MaxPooling2 (None, 17, 17, 10)        0         \n",
            "_________________________________________________________________\n",
            "flatten_1 (Flatten)          (None, 2890)              0         \n",
            "_________________________________________________________________\n",
            "dense_1 (Dense)              (None, 200)               578200    \n",
            "_________________________________________________________________\n",
            "dropout (Dropout)            (None, 200)               0         \n",
            "_________________________________________________________________\n",
            "dense_2 (Dense)              (None, 6)                 1206      \n",
            "=================================================================\n",
            "Total params: 579,686\n",
            "Trainable params: 579,686\n",
            "Non-trainable params: 0\n",
            "_________________________________________________________________\n",
            "Epoch 1/50\n",
            "104/104 [==============================] - 1s 8ms/step - loss: 1.1046 - accuracy: 0.6426 - val_loss: 0.7735 - val_accuracy: 0.7355\n",
            "Epoch 2/50\n",
            "104/104 [==============================] - 1s 6ms/step - loss: 0.6909 - accuracy: 0.7405 - val_loss: 0.6533 - val_accuracy: 0.7899\n",
            "Epoch 3/50\n",
            "104/104 [==============================] - 1s 6ms/step - loss: 0.6234 - accuracy: 0.7739 - val_loss: 0.4959 - val_accuracy: 0.8309\n",
            "Epoch 4/50\n",
            "104/104 [==============================] - 1s 6ms/step - loss: 0.4761 - accuracy: 0.8270 - val_loss: 0.4531 - val_accuracy: 0.8261\n",
            "Epoch 5/50\n",
            "104/104 [==============================] - 1s 6ms/step - loss: 0.3968 - accuracy: 0.8544 - val_loss: 0.4030 - val_accuracy: 0.8370\n",
            "Epoch 6/50\n",
            "104/104 [==============================] - 1s 6ms/step - loss: 0.3737 - accuracy: 0.8490 - val_loss: 0.3739 - val_accuracy: 0.8466\n",
            "Epoch 7/50\n",
            "104/104 [==============================] - 1s 6ms/step - loss: 0.3365 - accuracy: 0.8650 - val_loss: 0.3398 - val_accuracy: 0.8659\n",
            "Epoch 8/50\n",
            "104/104 [==============================] - 1s 6ms/step - loss: 0.3104 - accuracy: 0.8807 - val_loss: 0.3165 - val_accuracy: 0.8744\n",
            "Epoch 9/50\n",
            "104/104 [==============================] - 1s 6ms/step - loss: 0.2891 - accuracy: 0.8876 - val_loss: 0.2926 - val_accuracy: 0.8877\n",
            "Epoch 10/50\n",
            "104/104 [==============================] - 1s 6ms/step - loss: 0.2622 - accuracy: 0.8942 - val_loss: 0.2920 - val_accuracy: 0.8732\n",
            "Epoch 11/50\n",
            "104/104 [==============================] - 1s 6ms/step - loss: 0.2523 - accuracy: 0.8996 - val_loss: 0.2718 - val_accuracy: 0.8961\n",
            "Epoch 12/50\n",
            "104/104 [==============================] - 1s 6ms/step - loss: 0.2231 - accuracy: 0.9159 - val_loss: 0.2567 - val_accuracy: 0.8901\n",
            "Epoch 13/50\n",
            "104/104 [==============================] - 1s 6ms/step - loss: 0.2140 - accuracy: 0.9077 - val_loss: 0.2357 - val_accuracy: 0.9227\n",
            "Epoch 14/50\n",
            "104/104 [==============================] - 1s 6ms/step - loss: 0.1991 - accuracy: 0.9122 - val_loss: 0.2299 - val_accuracy: 0.9275\n",
            "Epoch 15/50\n",
            "104/104 [==============================] - 1s 6ms/step - loss: 0.1944 - accuracy: 0.9269 - val_loss: 0.2348 - val_accuracy: 0.9046\n",
            "Epoch 16/50\n",
            "104/104 [==============================] - 1s 6ms/step - loss: 0.1698 - accuracy: 0.9293 - val_loss: 0.2252 - val_accuracy: 0.9191\n",
            "Epoch 17/50\n",
            "104/104 [==============================] - 1s 6ms/step - loss: 0.1596 - accuracy: 0.9347 - val_loss: 0.2024 - val_accuracy: 0.9239\n",
            "Epoch 18/50\n",
            "104/104 [==============================] - 1s 6ms/step - loss: 0.1561 - accuracy: 0.9359 - val_loss: 0.2110 - val_accuracy: 0.9167\n",
            "Epoch 19/50\n",
            "104/104 [==============================] - 1s 6ms/step - loss: 0.1410 - accuracy: 0.9476 - val_loss: 0.2184 - val_accuracy: 0.9191\n",
            "Epoch 20/50\n",
            "104/104 [==============================] - 1s 6ms/step - loss: 0.1405 - accuracy: 0.9447 - val_loss: 0.2160 - val_accuracy: 0.9082\n",
            "Epoch 21/50\n",
            "104/104 [==============================] - 1s 6ms/step - loss: 0.1375 - accuracy: 0.9375 - val_loss: 0.1942 - val_accuracy: 0.9251\n",
            "Epoch 22/50\n",
            "104/104 [==============================] - 1s 7ms/step - loss: 0.1270 - accuracy: 0.9460 - val_loss: 0.1868 - val_accuracy: 0.9263\n",
            "Epoch 23/50\n",
            "104/104 [==============================] - 1s 6ms/step - loss: 0.1027 - accuracy: 0.9622 - val_loss: 0.1955 - val_accuracy: 0.9312\n",
            "Epoch 24/50\n",
            "104/104 [==============================] - 1s 7ms/step - loss: 0.1101 - accuracy: 0.9550 - val_loss: 0.1938 - val_accuracy: 0.9191\n",
            "Epoch 25/50\n",
            "104/104 [==============================] - 1s 6ms/step - loss: 0.1015 - accuracy: 0.9608 - val_loss: 0.1994 - val_accuracy: 0.9155\n",
            "Epoch 26/50\n",
            "104/104 [==============================] - 1s 6ms/step - loss: 0.1197 - accuracy: 0.9503 - val_loss: 0.1774 - val_accuracy: 0.9360\n",
            "Epoch 27/50\n",
            "104/104 [==============================] - 1s 6ms/step - loss: 0.0957 - accuracy: 0.9665 - val_loss: 0.1927 - val_accuracy: 0.9227\n",
            "Epoch 28/50\n",
            "104/104 [==============================] - 1s 6ms/step - loss: 0.0937 - accuracy: 0.9665 - val_loss: 0.2173 - val_accuracy: 0.9227\n",
            "Epoch 29/50\n",
            "104/104 [==============================] - 1s 6ms/step - loss: 0.0896 - accuracy: 0.9654 - val_loss: 0.2232 - val_accuracy: 0.9251\n",
            "Epoch 30/50\n",
            "104/104 [==============================] - 1s 6ms/step - loss: 0.0888 - accuracy: 0.9651 - val_loss: 0.1767 - val_accuracy: 0.9372\n",
            "Epoch 31/50\n",
            "104/104 [==============================] - 1s 6ms/step - loss: 0.0957 - accuracy: 0.9667 - val_loss: 0.1777 - val_accuracy: 0.9396\n",
            "Epoch 32/50\n",
            "104/104 [==============================] - 1s 7ms/step - loss: 0.0821 - accuracy: 0.9694 - val_loss: 0.2031 - val_accuracy: 0.9155\n",
            "Epoch 33/50\n",
            "104/104 [==============================] - 1s 6ms/step - loss: 0.0721 - accuracy: 0.9710 - val_loss: 0.1757 - val_accuracy: 0.9384\n",
            "Epoch 34/50\n",
            "104/104 [==============================] - 1s 6ms/step - loss: 0.0685 - accuracy: 0.9800 - val_loss: 0.1928 - val_accuracy: 0.9372\n",
            "Epoch 35/50\n",
            "104/104 [==============================] - 1s 6ms/step - loss: 0.0809 - accuracy: 0.9720 - val_loss: 0.1874 - val_accuracy: 0.9251\n",
            "Epoch 36/50\n",
            "104/104 [==============================] - 1s 6ms/step - loss: 0.0717 - accuracy: 0.9741 - val_loss: 0.1725 - val_accuracy: 0.9420\n",
            "Epoch 37/50\n",
            "104/104 [==============================] - 1s 6ms/step - loss: 0.0539 - accuracy: 0.9844 - val_loss: 0.1897 - val_accuracy: 0.9287\n",
            "Epoch 38/50\n",
            "104/104 [==============================] - 1s 6ms/step - loss: 0.0616 - accuracy: 0.9777 - val_loss: 0.1917 - val_accuracy: 0.9396\n",
            "Epoch 39/50\n",
            "104/104 [==============================] - 1s 6ms/step - loss: 0.0642 - accuracy: 0.9713 - val_loss: 0.1845 - val_accuracy: 0.9360\n",
            "Epoch 40/50\n",
            "104/104 [==============================] - 1s 6ms/step - loss: 0.0630 - accuracy: 0.9748 - val_loss: 0.1902 - val_accuracy: 0.9300\n",
            "Epoch 41/50\n",
            "104/104 [==============================] - 1s 6ms/step - loss: 0.0583 - accuracy: 0.9768 - val_loss: 0.1968 - val_accuracy: 0.9312\n",
            "Epoch 42/50\n",
            "104/104 [==============================] - 1s 6ms/step - loss: 0.0540 - accuracy: 0.9803 - val_loss: 0.1855 - val_accuracy: 0.9312\n",
            "Epoch 43/50\n",
            "104/104 [==============================] - 1s 6ms/step - loss: 0.0596 - accuracy: 0.9788 - val_loss: 0.2302 - val_accuracy: 0.9143\n",
            "Epoch 44/50\n",
            "104/104 [==============================] - 1s 6ms/step - loss: 0.0677 - accuracy: 0.9698 - val_loss: 0.2172 - val_accuracy: 0.9191\n",
            "Epoch 45/50\n",
            "104/104 [==============================] - 1s 6ms/step - loss: 0.0485 - accuracy: 0.9830 - val_loss: 0.2167 - val_accuracy: 0.9384\n",
            "Epoch 46/50\n",
            "104/104 [==============================] - 1s 6ms/step - loss: 0.0512 - accuracy: 0.9810 - val_loss: 0.2564 - val_accuracy: 0.9155\n",
            "Epoch 47/50\n",
            "104/104 [==============================] - 1s 6ms/step - loss: 0.0484 - accuracy: 0.9807 - val_loss: 0.2069 - val_accuracy: 0.9372\n",
            "Epoch 48/50\n",
            "104/104 [==============================] - 1s 6ms/step - loss: 0.0470 - accuracy: 0.9840 - val_loss: 0.2045 - val_accuracy: 0.9420\n",
            "Epoch 49/50\n",
            "104/104 [==============================] - 1s 6ms/step - loss: 0.0362 - accuracy: 0.9902 - val_loss: 0.1993 - val_accuracy: 0.9275\n",
            "Epoch 50/50\n",
            "104/104 [==============================] - 1s 6ms/step - loss: 0.0376 - accuracy: 0.9913 - val_loss: 0.2005 - val_accuracy: 0.9420\n"
          ],
          "name": "stdout"
        }
      ]
    },
    {
      "cell_type": "code",
      "metadata": {
        "colab": {
          "base_uri": "https://localhost:8080/",
          "height": 385
        },
        "id": "FGxDIjS1Jali",
        "outputId": "ce1a9bdb-2471-4fd7-a642-a12ccabb5084"
      },
      "source": [
        "legend = ['Training', 'Validation']\n",
        "#plot_loss_accuracy_list([history_baseline], \"Baseline Model\", legend)\n",
        "plot_loss_accuracy_list([history_refined1], \"Refined Model 1\", legend)"
      ],
      "execution_count": null,
      "outputs": [
        {
          "output_type": "display_data",
          "data": {
            "image/png": "[encoded data removed]",
            "text/plain": [
              "<Figure size 600x400 with 2 Axes>"
            ]
          },
          "metadata": {
            "tags": [],
            "needs_background": "light"
          }
        }
      ]
    },
    {
      "cell_type": "markdown",
      "metadata": {
        "id": "vN6b9Uwb6Nhp"
      },
      "source": [
        "As showed in the figure above, overfitting was reduced thanks to the dropout layer added."
      ]
    },
    {
      "cell_type": "markdown",
      "metadata": {
        "id": "gBr5yGWK3Yce"
      },
      "source": [
        "\n",
        "\n",
        "\n",
        "Additionally, we modify the learning rate to help improving the performance:"
      ]
    },
    {
      "cell_type": "code",
      "metadata": {
        "colab": {
          "base_uri": "https://localhost:8080/"
        },
        "id": "hFAthWSi3Xvj",
        "outputId": "74a3106e-4989-4684-abfa-b3668ba64a15"
      },
      "source": [
        "model_refined2 = Sequential()\n",
        "model_refined2.add(Conv2D(10,3,3, input_shape=(100,100,3)))\n",
        "model_refined2.add(MaxPooling2D(pool_size=(2,2),padding=\"SAME\"))\n",
        "model_refined2.add(Flatten())\n",
        "model_refined2.add(Dense(200, activation=\"relu\"))\n",
        "model_refined2.add(Dropout(0.2))\n",
        "model_refined2.add(Dense(6, activation=\"softmax\"))\n",
        "model_refined2.summary()\n",
        "\n",
        "model_refined2.compile(optimizer=optimizers.Adam(lr=0.00005), loss=\"categorical_crossentropy\",metrics=[\"accuracy\"])\n",
        "history_refined2  = model_refined2.fit(train_batch, validation_data=valid_batch, epochs=50)\n"
      ],
      "execution_count": null,
      "outputs": [
        {
          "output_type": "stream",
          "text": [
            "Model: \"sequential_2\"\n",
            "_________________________________________________________________\n",
            "Layer (type)                 Output Shape              Param #   \n",
            "=================================================================\n",
            "conv2d_2 (Conv2D)            (None, 33, 33, 10)        280       \n",
            "_________________________________________________________________\n",
            "max_pooling2d_2 (MaxPooling2 (None, 17, 17, 10)        0         \n",
            "_________________________________________________________________\n",
            "flatten_2 (Flatten)          (None, 2890)              0         \n",
            "_________________________________________________________________\n",
            "dense_3 (Dense)              (None, 200)               578200    \n",
            "_________________________________________________________________\n",
            "dropout_1 (Dropout)          (None, 200)               0         \n",
            "_________________________________________________________________\n",
            "dense_4 (Dense)              (None, 6)                 1206      \n",
            "=================================================================\n",
            "Total params: 579,686\n",
            "Trainable params: 579,686\n",
            "Non-trainable params: 0\n",
            "_________________________________________________________________\n",
            "Epoch 1/50\n",
            "104/104 [==============================] - 1s 7ms/step - loss: 1.3158 - accuracy: 0.5686 - val_loss: 1.0707 - val_accuracy: 0.6558\n",
            "Epoch 2/50\n",
            "104/104 [==============================] - 1s 6ms/step - loss: 1.0553 - accuracy: 0.6424 - val_loss: 0.9645 - val_accuracy: 0.6630\n",
            "Epoch 3/50\n",
            "104/104 [==============================] - 1s 6ms/step - loss: 0.9219 - accuracy: 0.6738 - val_loss: 0.8799 - val_accuracy: 0.7005\n",
            "Epoch 4/50\n",
            "104/104 [==============================] - 1s 6ms/step - loss: 0.8668 - accuracy: 0.6859 - val_loss: 0.8078 - val_accuracy: 0.7162\n",
            "Epoch 5/50\n",
            "104/104 [==============================] - 1s 6ms/step - loss: 0.7840 - accuracy: 0.7157 - val_loss: 0.7521 - val_accuracy: 0.7138\n",
            "Epoch 6/50\n",
            "104/104 [==============================] - 1s 6ms/step - loss: 0.7398 - accuracy: 0.7273 - val_loss: 0.7044 - val_accuracy: 0.7645\n",
            "Epoch 7/50\n",
            "104/104 [==============================] - 1s 6ms/step - loss: 0.6754 - accuracy: 0.7580 - val_loss: 0.6656 - val_accuracy: 0.7729\n",
            "Epoch 8/50\n",
            "104/104 [==============================] - 1s 6ms/step - loss: 0.6503 - accuracy: 0.7540 - val_loss: 0.6402 - val_accuracy: 0.7717\n",
            "Epoch 9/50\n",
            "104/104 [==============================] - 1s 6ms/step - loss: 0.6001 - accuracy: 0.7952 - val_loss: 0.6199 - val_accuracy: 0.7802\n",
            "Epoch 10/50\n",
            "104/104 [==============================] - 1s 6ms/step - loss: 0.5904 - accuracy: 0.7866 - val_loss: 0.5951 - val_accuracy: 0.7874\n",
            "Epoch 11/50\n",
            "104/104 [==============================] - 1s 6ms/step - loss: 0.5683 - accuracy: 0.8010 - val_loss: 0.5687 - val_accuracy: 0.8068\n",
            "Epoch 12/50\n",
            "104/104 [==============================] - 1s 6ms/step - loss: 0.5444 - accuracy: 0.8126 - val_loss: 0.5550 - val_accuracy: 0.8068\n",
            "Epoch 13/50\n",
            "104/104 [==============================] - 1s 6ms/step - loss: 0.5317 - accuracy: 0.8158 - val_loss: 0.5449 - val_accuracy: 0.8152\n",
            "Epoch 14/50\n",
            "104/104 [==============================] - 1s 6ms/step - loss: 0.5110 - accuracy: 0.8194 - val_loss: 0.5238 - val_accuracy: 0.8213\n",
            "Epoch 15/50\n",
            "104/104 [==============================] - 1s 6ms/step - loss: 0.4892 - accuracy: 0.8226 - val_loss: 0.5193 - val_accuracy: 0.8261\n",
            "Epoch 16/50\n",
            "104/104 [==============================] - 1s 6ms/step - loss: 0.4817 - accuracy: 0.8314 - val_loss: 0.5020 - val_accuracy: 0.8309\n",
            "Epoch 17/50\n",
            "104/104 [==============================] - 1s 6ms/step - loss: 0.4752 - accuracy: 0.8362 - val_loss: 0.4924 - val_accuracy: 0.8285\n",
            "Epoch 18/50\n",
            "104/104 [==============================] - 1s 7ms/step - loss: 0.4619 - accuracy: 0.8370 - val_loss: 0.4816 - val_accuracy: 0.8333\n",
            "Epoch 19/50\n",
            "104/104 [==============================] - 1s 6ms/step - loss: 0.4357 - accuracy: 0.8442 - val_loss: 0.4908 - val_accuracy: 0.8188\n",
            "Epoch 20/50\n",
            "104/104 [==============================] - 1s 6ms/step - loss: 0.4315 - accuracy: 0.8421 - val_loss: 0.4712 - val_accuracy: 0.8213\n",
            "Epoch 21/50\n",
            "104/104 [==============================] - 1s 6ms/step - loss: 0.4388 - accuracy: 0.8401 - val_loss: 0.4593 - val_accuracy: 0.8394\n",
            "Epoch 22/50\n",
            "104/104 [==============================] - 1s 6ms/step - loss: 0.3975 - accuracy: 0.8593 - val_loss: 0.4614 - val_accuracy: 0.8273\n",
            "Epoch 23/50\n",
            "104/104 [==============================] - 1s 6ms/step - loss: 0.4054 - accuracy: 0.8444 - val_loss: 0.4476 - val_accuracy: 0.8442\n",
            "Epoch 24/50\n",
            "104/104 [==============================] - 1s 6ms/step - loss: 0.3919 - accuracy: 0.8559 - val_loss: 0.4401 - val_accuracy: 0.8382\n",
            "Epoch 25/50\n",
            "104/104 [==============================] - 1s 6ms/step - loss: 0.3843 - accuracy: 0.8636 - val_loss: 0.4290 - val_accuracy: 0.8418\n",
            "Epoch 26/50\n",
            "104/104 [==============================] - 1s 6ms/step - loss: 0.3707 - accuracy: 0.8625 - val_loss: 0.4255 - val_accuracy: 0.8394\n",
            "Epoch 27/50\n",
            "104/104 [==============================] - 1s 6ms/step - loss: 0.3659 - accuracy: 0.8731 - val_loss: 0.4335 - val_accuracy: 0.8309\n",
            "Epoch 28/50\n",
            "104/104 [==============================] - 1s 6ms/step - loss: 0.3687 - accuracy: 0.8653 - val_loss: 0.4167 - val_accuracy: 0.8478\n",
            "Epoch 29/50\n",
            "104/104 [==============================] - 1s 6ms/step - loss: 0.3733 - accuracy: 0.8639 - val_loss: 0.4084 - val_accuracy: 0.8490\n",
            "Epoch 30/50\n",
            "104/104 [==============================] - 1s 6ms/step - loss: 0.3566 - accuracy: 0.8718 - val_loss: 0.4045 - val_accuracy: 0.8599\n",
            "Epoch 31/50\n",
            "104/104 [==============================] - 1s 6ms/step - loss: 0.3198 - accuracy: 0.8911 - val_loss: 0.4020 - val_accuracy: 0.8563\n",
            "Epoch 32/50\n",
            "104/104 [==============================] - 1s 6ms/step - loss: 0.3458 - accuracy: 0.8727 - val_loss: 0.4006 - val_accuracy: 0.8563\n",
            "Epoch 33/50\n",
            "104/104 [==============================] - 1s 6ms/step - loss: 0.3227 - accuracy: 0.8881 - val_loss: 0.3925 - val_accuracy: 0.8623\n",
            "Epoch 34/50\n",
            "104/104 [==============================] - 1s 6ms/step - loss: 0.3335 - accuracy: 0.8770 - val_loss: 0.3926 - val_accuracy: 0.8490\n",
            "Epoch 35/50\n",
            "104/104 [==============================] - 1s 6ms/step - loss: 0.3286 - accuracy: 0.8791 - val_loss: 0.3995 - val_accuracy: 0.8551\n",
            "Epoch 36/50\n",
            "104/104 [==============================] - 1s 6ms/step - loss: 0.3261 - accuracy: 0.8763 - val_loss: 0.3833 - val_accuracy: 0.8575\n",
            "Epoch 37/50\n",
            "104/104 [==============================] - 1s 6ms/step - loss: 0.3231 - accuracy: 0.8772 - val_loss: 0.3756 - val_accuracy: 0.8647\n",
            "Epoch 38/50\n",
            "104/104 [==============================] - 1s 6ms/step - loss: 0.3122 - accuracy: 0.8764 - val_loss: 0.3778 - val_accuracy: 0.8696\n",
            "Epoch 39/50\n",
            "104/104 [==============================] - 1s 6ms/step - loss: 0.2978 - accuracy: 0.9025 - val_loss: 0.3668 - val_accuracy: 0.8647\n",
            "Epoch 40/50\n",
            "104/104 [==============================] - 1s 6ms/step - loss: 0.2908 - accuracy: 0.8948 - val_loss: 0.3606 - val_accuracy: 0.8756\n",
            "Epoch 41/50\n",
            "104/104 [==============================] - 1s 6ms/step - loss: 0.2895 - accuracy: 0.8981 - val_loss: 0.3631 - val_accuracy: 0.8804\n",
            "Epoch 42/50\n",
            "104/104 [==============================] - 1s 6ms/step - loss: 0.3055 - accuracy: 0.8958 - val_loss: 0.3565 - val_accuracy: 0.8841\n",
            "Epoch 43/50\n",
            "104/104 [==============================] - 1s 6ms/step - loss: 0.2792 - accuracy: 0.8957 - val_loss: 0.3583 - val_accuracy: 0.8720\n",
            "Epoch 44/50\n",
            "104/104 [==============================] - 1s 6ms/step - loss: 0.2692 - accuracy: 0.9064 - val_loss: 0.3528 - val_accuracy: 0.8732\n",
            "Epoch 45/50\n",
            "104/104 [==============================] - 1s 6ms/step - loss: 0.2719 - accuracy: 0.8953 - val_loss: 0.3475 - val_accuracy: 0.8756\n",
            "Epoch 46/50\n",
            "104/104 [==============================] - 1s 6ms/step - loss: 0.2824 - accuracy: 0.9026 - val_loss: 0.3431 - val_accuracy: 0.8877\n",
            "Epoch 47/50\n",
            "104/104 [==============================] - 1s 6ms/step - loss: 0.2521 - accuracy: 0.9084 - val_loss: 0.3527 - val_accuracy: 0.8768\n",
            "Epoch 48/50\n",
            "104/104 [==============================] - 1s 6ms/step - loss: 0.2597 - accuracy: 0.9141 - val_loss: 0.3506 - val_accuracy: 0.8599\n",
            "Epoch 49/50\n",
            "104/104 [==============================] - 1s 7ms/step - loss: 0.2673 - accuracy: 0.9014 - val_loss: 0.3355 - val_accuracy: 0.8780\n",
            "Epoch 50/50\n",
            "104/104 [==============================] - 1s 6ms/step - loss: 0.2602 - accuracy: 0.9071 - val_loss: 0.3361 - val_accuracy: 0.8792\n"
          ],
          "name": "stdout"
        }
      ]
    },
    {
      "cell_type": "code",
      "metadata": {
        "colab": {
          "base_uri": "https://localhost:8080/",
          "height": 385
        },
        "id": "7LFn7Kuo3_bT",
        "outputId": "36887f7c-2c78-41c1-8903-25cbf7307593"
      },
      "source": [
        "legend = ['Training', 'Validation']\n",
        "#plot_loss_accuracy_list([history_refined], \"Refined Model 1\", legend)\n",
        "plot_loss_accuracy_list([history_refined2], \"Refined Model 2\", legend)"
      ],
      "execution_count": null,
      "outputs": [
        {
          "output_type": "display_data",
          "data": {
            "image/png": "[encoded data removed]",
            "text/plain": [
              "<Figure size 600x400 with 2 Axes>"
            ]
          },
          "metadata": {
            "tags": [],
            "needs_background": "light"
          }
        }
      ]
    },
    {
      "cell_type": "markdown",
      "metadata": {
        "id": "EhgBTVwqVnh_"
      },
      "source": [
        "We then apply batch normalization to learn faster:\n"
      ]
    },
    {
      "cell_type": "code",
      "metadata": {
        "colab": {
          "base_uri": "https://localhost:8080/"
        },
        "id": "pDV9-q_SwRw6",
        "outputId": "d5df988e-b29a-47db-9fb9-1e7bb72be37c"
      },
      "source": [
        "model_refined3 = Sequential()\n",
        "\n",
        "model_refined3.add(Conv2D(10,3,3, input_shape=(100,100,3)))\n",
        "model_refined3.add(BatchNormalization())\n",
        "model_refined3.add(Activation(\"relu\"))\n",
        "model_refined3.add(MaxPooling2D(pool_size=(2,2),padding=\"SAME\"))\n",
        "model_refined3.add(Flatten())\n",
        "model_refined3.add(Dense(200, activation=\"relu\"))\n",
        "model_refined3.add(Dropout(0.2))\n",
        "model_refined3.add(Dense(6, activation=\"softmax\"))\n",
        "model_refined3.summary()\n",
        "\n",
        "model_refined3.compile(optimizer=optimizers.Adam(lr=0.00005), loss=\"categorical_crossentropy\",metrics=[\"accuracy\"])\n",
        "history_refined3  = model_refined3.fit(train_batch, validation_data=valid_batch, epochs=50)"
      ],
      "execution_count": null,
      "outputs": [
        {
          "output_type": "stream",
          "text": [
            "Model: \"sequential_3\"\n",
            "_________________________________________________________________\n",
            "Layer (type)                 Output Shape              Param #   \n",
            "=================================================================\n",
            "conv2d_3 (Conv2D)            (None, 33, 33, 10)        280       \n",
            "_________________________________________________________________\n",
            "batch_normalization (BatchNo (None, 33, 33, 10)        40        \n",
            "_________________________________________________________________\n",
            "activation (Activation)      (None, 33, 33, 10)        0         \n",
            "_________________________________________________________________\n",
            "max_pooling2d_3 (MaxPooling2 (None, 17, 17, 10)        0         \n",
            "_________________________________________________________________\n",
            "flatten_3 (Flatten)          (None, 2890)              0         \n",
            "_________________________________________________________________\n",
            "dense_5 (Dense)              (None, 200)               578200    \n",
            "_________________________________________________________________\n",
            "dropout_2 (Dropout)          (None, 200)               0         \n",
            "_________________________________________________________________\n",
            "dense_6 (Dense)              (None, 6)                 1206      \n",
            "=================================================================\n",
            "Total params: 579,726\n",
            "Trainable params: 579,706\n",
            "Non-trainable params: 20\n",
            "_________________________________________________________________\n",
            "Epoch 1/50\n",
            "104/104 [==============================] - 1s 8ms/step - loss: 1.0599 - accuracy: 0.6446 - val_loss: 1.2659 - val_accuracy: 0.6220\n",
            "Epoch 2/50\n",
            "104/104 [==============================] - 1s 6ms/step - loss: 0.6606 - accuracy: 0.7636 - val_loss: 0.9577 - val_accuracy: 0.6751\n",
            "Epoch 3/50\n",
            "104/104 [==============================] - 1s 7ms/step - loss: 0.5409 - accuracy: 0.8090 - val_loss: 0.7404 - val_accuracy: 0.7536\n",
            "Epoch 4/50\n",
            "104/104 [==============================] - 1s 6ms/step - loss: 0.4634 - accuracy: 0.8321 - val_loss: 0.6127 - val_accuracy: 0.7923\n",
            "Epoch 5/50\n",
            "104/104 [==============================] - 1s 6ms/step - loss: 0.4089 - accuracy: 0.8468 - val_loss: 0.5212 - val_accuracy: 0.8128\n",
            "Epoch 6/50\n",
            "104/104 [==============================] - 1s 6ms/step - loss: 0.4075 - accuracy: 0.8551 - val_loss: 0.4498 - val_accuracy: 0.8418\n",
            "Epoch 7/50\n",
            "104/104 [==============================] - 1s 7ms/step - loss: 0.3442 - accuracy: 0.8758 - val_loss: 0.4077 - val_accuracy: 0.8478\n",
            "Epoch 8/50\n",
            "104/104 [==============================] - 1s 6ms/step - loss: 0.3191 - accuracy: 0.8836 - val_loss: 0.3790 - val_accuracy: 0.8587\n",
            "Epoch 9/50\n",
            "104/104 [==============================] - 1s 6ms/step - loss: 0.3035 - accuracy: 0.8910 - val_loss: 0.3599 - val_accuracy: 0.8659\n",
            "Epoch 10/50\n",
            "104/104 [==============================] - 1s 6ms/step - loss: 0.2691 - accuracy: 0.9097 - val_loss: 0.3391 - val_accuracy: 0.8780\n",
            "Epoch 11/50\n",
            "104/104 [==============================] - 1s 6ms/step - loss: 0.2617 - accuracy: 0.9085 - val_loss: 0.3317 - val_accuracy: 0.8720\n",
            "Epoch 12/50\n",
            "104/104 [==============================] - 1s 6ms/step - loss: 0.2487 - accuracy: 0.9093 - val_loss: 0.3253 - val_accuracy: 0.8635\n",
            "Epoch 13/50\n",
            "104/104 [==============================] - 1s 6ms/step - loss: 0.2522 - accuracy: 0.9056 - val_loss: 0.3118 - val_accuracy: 0.8816\n",
            "Epoch 14/50\n",
            "104/104 [==============================] - 1s 6ms/step - loss: 0.2079 - accuracy: 0.9268 - val_loss: 0.3032 - val_accuracy: 0.8829\n",
            "Epoch 15/50\n",
            "104/104 [==============================] - 1s 6ms/step - loss: 0.2086 - accuracy: 0.9240 - val_loss: 0.3032 - val_accuracy: 0.8780\n",
            "Epoch 16/50\n",
            "104/104 [==============================] - 1s 6ms/step - loss: 0.1948 - accuracy: 0.9271 - val_loss: 0.2928 - val_accuracy: 0.8865\n",
            "Epoch 17/50\n",
            "104/104 [==============================] - 1s 6ms/step - loss: 0.1824 - accuracy: 0.9327 - val_loss: 0.2910 - val_accuracy: 0.8865\n",
            "Epoch 18/50\n",
            "104/104 [==============================] - 1s 6ms/step - loss: 0.1740 - accuracy: 0.9375 - val_loss: 0.2776 - val_accuracy: 0.8925\n",
            "Epoch 19/50\n",
            "104/104 [==============================] - 1s 6ms/step - loss: 0.1624 - accuracy: 0.9437 - val_loss: 0.2760 - val_accuracy: 0.8889\n",
            "Epoch 20/50\n",
            "104/104 [==============================] - 1s 6ms/step - loss: 0.1595 - accuracy: 0.9434 - val_loss: 0.2647 - val_accuracy: 0.8961\n",
            "Epoch 21/50\n",
            "104/104 [==============================] - 1s 6ms/step - loss: 0.1455 - accuracy: 0.9534 - val_loss: 0.2503 - val_accuracy: 0.8973\n",
            "Epoch 22/50\n",
            "104/104 [==============================] - 1s 6ms/step - loss: 0.1403 - accuracy: 0.9580 - val_loss: 0.2671 - val_accuracy: 0.8901\n",
            "Epoch 23/50\n",
            "104/104 [==============================] - 1s 6ms/step - loss: 0.1334 - accuracy: 0.9584 - val_loss: 0.2496 - val_accuracy: 0.9034\n",
            "Epoch 24/50\n",
            "104/104 [==============================] - 1s 6ms/step - loss: 0.1370 - accuracy: 0.9541 - val_loss: 0.2562 - val_accuracy: 0.8925\n",
            "Epoch 25/50\n",
            "104/104 [==============================] - 1s 8ms/step - loss: 0.1296 - accuracy: 0.9546 - val_loss: 0.2419 - val_accuracy: 0.9034\n",
            "Epoch 26/50\n",
            "104/104 [==============================] - 1s 6ms/step - loss: 0.1136 - accuracy: 0.9673 - val_loss: 0.2386 - val_accuracy: 0.9118\n",
            "Epoch 27/50\n",
            "104/104 [==============================] - 1s 6ms/step - loss: 0.0990 - accuracy: 0.9753 - val_loss: 0.2236 - val_accuracy: 0.9167\n",
            "Epoch 28/50\n",
            "104/104 [==============================] - 1s 6ms/step - loss: 0.1022 - accuracy: 0.9699 - val_loss: 0.2459 - val_accuracy: 0.9082\n",
            "Epoch 29/50\n",
            "104/104 [==============================] - 1s 6ms/step - loss: 0.1088 - accuracy: 0.9664 - val_loss: 0.2403 - val_accuracy: 0.9058\n",
            "Epoch 30/50\n",
            "104/104 [==============================] - 1s 6ms/step - loss: 0.0913 - accuracy: 0.9759 - val_loss: 0.2180 - val_accuracy: 0.9143\n",
            "Epoch 31/50\n",
            "104/104 [==============================] - 1s 6ms/step - loss: 0.0992 - accuracy: 0.9720 - val_loss: 0.2277 - val_accuracy: 0.9094\n",
            "Epoch 32/50\n",
            "104/104 [==============================] - 1s 6ms/step - loss: 0.0928 - accuracy: 0.9723 - val_loss: 0.2346 - val_accuracy: 0.9106\n",
            "Epoch 33/50\n",
            "104/104 [==============================] - 1s 6ms/step - loss: 0.0784 - accuracy: 0.9767 - val_loss: 0.2387 - val_accuracy: 0.9143\n",
            "Epoch 34/50\n",
            "104/104 [==============================] - 1s 6ms/step - loss: 0.0873 - accuracy: 0.9743 - val_loss: 0.2311 - val_accuracy: 0.9130\n",
            "Epoch 35/50\n",
            "104/104 [==============================] - 1s 6ms/step - loss: 0.0792 - accuracy: 0.9759 - val_loss: 0.2269 - val_accuracy: 0.9106\n",
            "Epoch 36/50\n",
            "104/104 [==============================] - 1s 7ms/step - loss: 0.0688 - accuracy: 0.9833 - val_loss: 0.2228 - val_accuracy: 0.9155\n",
            "Epoch 37/50\n",
            "104/104 [==============================] - 1s 7ms/step - loss: 0.0730 - accuracy: 0.9785 - val_loss: 0.2266 - val_accuracy: 0.9143\n",
            "Epoch 38/50\n",
            "104/104 [==============================] - 1s 6ms/step - loss: 0.0772 - accuracy: 0.9779 - val_loss: 0.2175 - val_accuracy: 0.9179\n",
            "Epoch 39/50\n",
            "104/104 [==============================] - 1s 7ms/step - loss: 0.0683 - accuracy: 0.9847 - val_loss: 0.2235 - val_accuracy: 0.9155\n",
            "Epoch 40/50\n",
            "104/104 [==============================] - 1s 7ms/step - loss: 0.0620 - accuracy: 0.9855 - val_loss: 0.2082 - val_accuracy: 0.9227\n",
            "Epoch 41/50\n",
            "104/104 [==============================] - 1s 6ms/step - loss: 0.0691 - accuracy: 0.9793 - val_loss: 0.2190 - val_accuracy: 0.9191\n",
            "Epoch 42/50\n",
            "104/104 [==============================] - 1s 7ms/step - loss: 0.0617 - accuracy: 0.9854 - val_loss: 0.2164 - val_accuracy: 0.9179\n",
            "Epoch 43/50\n",
            "104/104 [==============================] - 1s 6ms/step - loss: 0.0581 - accuracy: 0.9872 - val_loss: 0.2215 - val_accuracy: 0.9167\n",
            "Epoch 44/50\n",
            "104/104 [==============================] - 1s 6ms/step - loss: 0.0604 - accuracy: 0.9817 - val_loss: 0.2066 - val_accuracy: 0.9203\n",
            "Epoch 45/50\n",
            "104/104 [==============================] - 1s 7ms/step - loss: 0.0579 - accuracy: 0.9815 - val_loss: 0.2226 - val_accuracy: 0.9191\n",
            "Epoch 46/50\n",
            "104/104 [==============================] - 1s 7ms/step - loss: 0.0587 - accuracy: 0.9887 - val_loss: 0.2210 - val_accuracy: 0.9215\n",
            "Epoch 47/50\n",
            "104/104 [==============================] - 1s 7ms/step - loss: 0.0512 - accuracy: 0.9909 - val_loss: 0.2043 - val_accuracy: 0.9215\n",
            "Epoch 48/50\n",
            "104/104 [==============================] - 1s 6ms/step - loss: 0.0480 - accuracy: 0.9879 - val_loss: 0.2133 - val_accuracy: 0.9227\n",
            "Epoch 49/50\n",
            "104/104 [==============================] - 1s 6ms/step - loss: 0.0459 - accuracy: 0.9910 - val_loss: 0.2175 - val_accuracy: 0.9227\n",
            "Epoch 50/50\n",
            "104/104 [==============================] - 1s 6ms/step - loss: 0.0460 - accuracy: 0.9866 - val_loss: 0.2268 - val_accuracy: 0.9191\n"
          ],
          "name": "stdout"
        }
      ]
    },
    {
      "cell_type": "code",
      "metadata": {
        "colab": {
          "base_uri": "https://localhost:8080/",
          "height": 385
        },
        "id": "MHFx8Fjkxjlc",
        "outputId": "6ae919b2-14e0-4115-9e07-21f4ccd701f6"
      },
      "source": [
        "legend = ['Training', 'Validation']\n",
        "plot_loss_accuracy_list([history_refined3], \"Refined Model 3\", legend)"
      ],
      "execution_count": null,
      "outputs": [
        {
          "output_type": "display_data",
          "data": {
            "image/png": "[encoded data removed]",
            "text/plain": [
              "<Figure size 600x400 with 2 Axes>"
            ]
          },
          "metadata": {
            "tags": [],
            "needs_background": "light"
          }
        }
      ]
    },
    {
      "cell_type": "markdown",
      "metadata": {
        "id": "iyN2b_JufGSX"
      },
      "source": [
        "Next, we explore adding a second convolutional layer to extract more features looking for better performance:"
      ]
    },
    {
      "cell_type": "code",
      "metadata": {
        "colab": {
          "base_uri": "https://localhost:8080/"
        },
        "id": "mY3fJwZQRmYD",
        "outputId": "ff6ea458-00f9-47ce-d302-b8b24d861b39"
      },
      "source": [
        "model_refined4 = Sequential()\n",
        "\n",
        "model_refined4.add(Conv2D(10,3,3, input_shape=(100,100,3)))\n",
        "model_refined4.add(BatchNormalization())\n",
        "model_refined4.add(Activation(\"relu\"))\n",
        "model_refined4.add(MaxPooling2D(pool_size=(2,2),padding=\"SAME\"))\n",
        "\n",
        "model_refined4.add(Conv2D(20,3,3, activation=\"relu\"))\n",
        "model_refined4.add(BatchNormalization())\n",
        "model_refined4.add(Activation(\"relu\"))\n",
        "model_refined4.add(MaxPooling2D(pool_size=(2,2),padding=\"SAME\"))\n",
        "\n",
        "model_refined4.add(Flatten())\n",
        "model_refined4.add(Dense(200, activation=\"relu\"))\n",
        "model_refined4.add(Dropout(0.2))\n",
        "model_refined4.add(Dense(6, activation=\"softmax\"))\n",
        "model_refined4.summary()\n",
        "\n",
        "model_refined4.compile(optimizer=optimizers.Adam(lr=0.00005), loss=\"categorical_crossentropy\",metrics=[\"accuracy\"])\n",
        "history_refined4  = model_refined4.fit(train_batch, validation_data=valid_batch, epochs=50)"
      ],
      "execution_count": null,
      "outputs": [
        {
          "output_type": "stream",
          "text": [
            "Model: \"sequential\"\n",
            "_________________________________________________________________\n",
            "Layer (type)                 Output Shape              Param #   \n",
            "=================================================================\n",
            "conv2d (Conv2D)              (None, 33, 33, 10)        280       \n",
            "_________________________________________________________________\n",
            "batch_normalization (BatchNo (None, 33, 33, 10)        40        \n",
            "_________________________________________________________________\n",
            "activation (Activation)      (None, 33, 33, 10)        0         \n",
            "_________________________________________________________________\n",
            "max_pooling2d (MaxPooling2D) (None, 17, 17, 10)        0         \n",
            "_________________________________________________________________\n",
            "conv2d_1 (Conv2D)            (None, 5, 5, 20)          1820      \n",
            "_________________________________________________________________\n",
            "batch_normalization_1 (Batch (None, 5, 5, 20)          80        \n",
            "_________________________________________________________________\n",
            "activation_1 (Activation)    (None, 5, 5, 20)          0         \n",
            "_________________________________________________________________\n",
            "max_pooling2d_1 (MaxPooling2 (None, 3, 3, 20)          0         \n",
            "_________________________________________________________________\n",
            "flatten (Flatten)            (None, 180)               0         \n",
            "_________________________________________________________________\n",
            "dense (Dense)                (None, 200)               36200     \n",
            "_________________________________________________________________\n",
            "dropout (Dropout)            (None, 200)               0         \n",
            "_________________________________________________________________\n",
            "dense_1 (Dense)              (None, 6)                 1206      \n",
            "=================================================================\n",
            "Total params: 39,626\n",
            "Trainable params: 39,566\n",
            "Non-trainable params: 60\n",
            "_________________________________________________________________\n",
            "Epoch 1/50\n",
            "104/104 [==============================] - 8s 11ms/step - loss: 1.6516 - accuracy: 0.4019 - val_loss: 1.7326 - val_accuracy: 0.5749\n",
            "Epoch 2/50\n",
            "104/104 [==============================] - 1s 7ms/step - loss: 1.1385 - accuracy: 0.6552 - val_loss: 1.5960 - val_accuracy: 0.6341\n",
            "Epoch 3/50\n",
            "104/104 [==============================] - 1s 7ms/step - loss: 0.9317 - accuracy: 0.6924 - val_loss: 1.2699 - val_accuracy: 0.6884\n",
            "Epoch 4/50\n",
            "104/104 [==============================] - 1s 7ms/step - loss: 0.8342 - accuracy: 0.7241 - val_loss: 0.9455 - val_accuracy: 0.7343\n",
            "Epoch 5/50\n",
            "104/104 [==============================] - 1s 6ms/step - loss: 0.7585 - accuracy: 0.7508 - val_loss: 0.7876 - val_accuracy: 0.7500\n",
            "Epoch 6/50\n",
            "104/104 [==============================] - 1s 7ms/step - loss: 0.7148 - accuracy: 0.7625 - val_loss: 0.7231 - val_accuracy: 0.7597\n",
            "Epoch 7/50\n",
            "104/104 [==============================] - 1s 6ms/step - loss: 0.6449 - accuracy: 0.7844 - val_loss: 0.7004 - val_accuracy: 0.7572\n",
            "Epoch 8/50\n",
            "104/104 [==============================] - 1s 6ms/step - loss: 0.6159 - accuracy: 0.7776 - val_loss: 0.6375 - val_accuracy: 0.7778\n",
            "Epoch 9/50\n",
            "104/104 [==============================] - 1s 7ms/step - loss: 0.5616 - accuracy: 0.8090 - val_loss: 0.5404 - val_accuracy: 0.8092\n",
            "Epoch 10/50\n",
            "104/104 [==============================] - 1s 7ms/step - loss: 0.5362 - accuracy: 0.8055 - val_loss: 0.5007 - val_accuracy: 0.8237\n",
            "Epoch 11/50\n",
            "104/104 [==============================] - 1s 8ms/step - loss: 0.4902 - accuracy: 0.8285 - val_loss: 0.4676 - val_accuracy: 0.8357\n",
            "Epoch 12/50\n",
            "104/104 [==============================] - 1s 7ms/step - loss: 0.4999 - accuracy: 0.8143 - val_loss: 0.4501 - val_accuracy: 0.8418\n",
            "Epoch 13/50\n",
            "104/104 [==============================] - 1s 7ms/step - loss: 0.4683 - accuracy: 0.8243 - val_loss: 0.4273 - val_accuracy: 0.8466\n",
            "Epoch 14/50\n",
            "104/104 [==============================] - 1s 7ms/step - loss: 0.4508 - accuracy: 0.8390 - val_loss: 0.4191 - val_accuracy: 0.8478\n",
            "Epoch 15/50\n",
            "104/104 [==============================] - 1s 6ms/step - loss: 0.4602 - accuracy: 0.8286 - val_loss: 0.3999 - val_accuracy: 0.8563\n",
            "Epoch 16/50\n",
            "104/104 [==============================] - 1s 6ms/step - loss: 0.3976 - accuracy: 0.8539 - val_loss: 0.3863 - val_accuracy: 0.8587\n",
            "Epoch 17/50\n",
            "104/104 [==============================] - 1s 6ms/step - loss: 0.4050 - accuracy: 0.8427 - val_loss: 0.3723 - val_accuracy: 0.8599\n",
            "Epoch 18/50\n",
            "104/104 [==============================] - 1s 6ms/step - loss: 0.3802 - accuracy: 0.8544 - val_loss: 0.3701 - val_accuracy: 0.8708\n",
            "Epoch 19/50\n",
            "104/104 [==============================] - 1s 6ms/step - loss: 0.3834 - accuracy: 0.8402 - val_loss: 0.3532 - val_accuracy: 0.8696\n",
            "Epoch 20/50\n",
            "104/104 [==============================] - 1s 7ms/step - loss: 0.3641 - accuracy: 0.8608 - val_loss: 0.3464 - val_accuracy: 0.8732\n",
            "Epoch 21/50\n",
            "104/104 [==============================] - 1s 6ms/step - loss: 0.3611 - accuracy: 0.8561 - val_loss: 0.3318 - val_accuracy: 0.8720\n",
            "Epoch 22/50\n",
            "104/104 [==============================] - 1s 6ms/step - loss: 0.3548 - accuracy: 0.8539 - val_loss: 0.3250 - val_accuracy: 0.8708\n",
            "Epoch 23/50\n",
            "104/104 [==============================] - 1s 7ms/step - loss: 0.3612 - accuracy: 0.8632 - val_loss: 0.3142 - val_accuracy: 0.8768\n",
            "Epoch 24/50\n",
            "104/104 [==============================] - 1s 7ms/step - loss: 0.3428 - accuracy: 0.8625 - val_loss: 0.3073 - val_accuracy: 0.8853\n",
            "Epoch 25/50\n",
            "104/104 [==============================] - 1s 6ms/step - loss: 0.3230 - accuracy: 0.8673 - val_loss: 0.3010 - val_accuracy: 0.8877\n",
            "Epoch 26/50\n",
            "104/104 [==============================] - 1s 6ms/step - loss: 0.3019 - accuracy: 0.8874 - val_loss: 0.2948 - val_accuracy: 0.8901\n",
            "Epoch 27/50\n",
            "104/104 [==============================] - 1s 7ms/step - loss: 0.2989 - accuracy: 0.8816 - val_loss: 0.2881 - val_accuracy: 0.8877\n",
            "Epoch 28/50\n",
            "104/104 [==============================] - 1s 6ms/step - loss: 0.3117 - accuracy: 0.8752 - val_loss: 0.2794 - val_accuracy: 0.8853\n",
            "Epoch 29/50\n",
            "104/104 [==============================] - 1s 7ms/step - loss: 0.2845 - accuracy: 0.8830 - val_loss: 0.2802 - val_accuracy: 0.8865\n",
            "Epoch 30/50\n",
            "104/104 [==============================] - 1s 7ms/step - loss: 0.2865 - accuracy: 0.8832 - val_loss: 0.2723 - val_accuracy: 0.8949\n",
            "Epoch 31/50\n",
            "104/104 [==============================] - 1s 7ms/step - loss: 0.2938 - accuracy: 0.8885 - val_loss: 0.2686 - val_accuracy: 0.8901\n",
            "Epoch 32/50\n",
            "104/104 [==============================] - 1s 6ms/step - loss: 0.2748 - accuracy: 0.8899 - val_loss: 0.2624 - val_accuracy: 0.8961\n",
            "Epoch 33/50\n",
            "104/104 [==============================] - 1s 6ms/step - loss: 0.2595 - accuracy: 0.8964 - val_loss: 0.2556 - val_accuracy: 0.8937\n",
            "Epoch 34/50\n",
            "104/104 [==============================] - 1s 7ms/step - loss: 0.2699 - accuracy: 0.8929 - val_loss: 0.2510 - val_accuracy: 0.8961\n",
            "Epoch 35/50\n",
            "104/104 [==============================] - 1s 7ms/step - loss: 0.2514 - accuracy: 0.8979 - val_loss: 0.2475 - val_accuracy: 0.9034\n",
            "Epoch 36/50\n",
            "104/104 [==============================] - 1s 7ms/step - loss: 0.2485 - accuracy: 0.8973 - val_loss: 0.2432 - val_accuracy: 0.9046\n",
            "Epoch 37/50\n",
            "104/104 [==============================] - 1s 6ms/step - loss: 0.2427 - accuracy: 0.8972 - val_loss: 0.2408 - val_accuracy: 0.9046\n",
            "Epoch 38/50\n",
            "104/104 [==============================] - 1s 6ms/step - loss: 0.2556 - accuracy: 0.8919 - val_loss: 0.2411 - val_accuracy: 0.8961\n",
            "Epoch 39/50\n",
            "104/104 [==============================] - 1s 7ms/step - loss: 0.2472 - accuracy: 0.8985 - val_loss: 0.2332 - val_accuracy: 0.9022\n",
            "Epoch 40/50\n",
            "104/104 [==============================] - 1s 7ms/step - loss: 0.2383 - accuracy: 0.9019 - val_loss: 0.2303 - val_accuracy: 0.9070\n",
            "Epoch 41/50\n",
            "104/104 [==============================] - 1s 7ms/step - loss: 0.2467 - accuracy: 0.8889 - val_loss: 0.2290 - val_accuracy: 0.9010\n",
            "Epoch 42/50\n",
            "104/104 [==============================] - 1s 6ms/step - loss: 0.2333 - accuracy: 0.9102 - val_loss: 0.2266 - val_accuracy: 0.9046\n",
            "Epoch 43/50\n",
            "104/104 [==============================] - 1s 6ms/step - loss: 0.2186 - accuracy: 0.9146 - val_loss: 0.2205 - val_accuracy: 0.9058\n",
            "Epoch 44/50\n",
            "104/104 [==============================] - 1s 6ms/step - loss: 0.2193 - accuracy: 0.9065 - val_loss: 0.2195 - val_accuracy: 0.9058\n",
            "Epoch 45/50\n",
            "104/104 [==============================] - 1s 6ms/step - loss: 0.2052 - accuracy: 0.9173 - val_loss: 0.2175 - val_accuracy: 0.9046\n",
            "Epoch 46/50\n",
            "104/104 [==============================] - 1s 8ms/step - loss: 0.2138 - accuracy: 0.9137 - val_loss: 0.2126 - val_accuracy: 0.9143\n",
            "Epoch 47/50\n",
            "104/104 [==============================] - 1s 6ms/step - loss: 0.2155 - accuracy: 0.9094 - val_loss: 0.2081 - val_accuracy: 0.9118\n",
            "Epoch 48/50\n",
            "104/104 [==============================] - 1s 6ms/step - loss: 0.2072 - accuracy: 0.9187 - val_loss: 0.2065 - val_accuracy: 0.9167\n",
            "Epoch 49/50\n",
            "104/104 [==============================] - 1s 7ms/step - loss: 0.1928 - accuracy: 0.9182 - val_loss: 0.2039 - val_accuracy: 0.9179\n",
            "Epoch 50/50\n",
            "104/104 [==============================] - 1s 7ms/step - loss: 0.1919 - accuracy: 0.9155 - val_loss: 0.2067 - val_accuracy: 0.9167\n"
          ],
          "name": "stdout"
        }
      ]
    },
    {
      "cell_type": "code",
      "metadata": {
        "colab": {
          "base_uri": "https://localhost:8080/",
          "height": 385
        },
        "id": "BiCMQFMcRpOl",
        "outputId": "7355e849-e714-45d7-e02d-0fb976fb55ca"
      },
      "source": [
        "legend = ['Training', 'Validation']\n",
        "#plot_loss_accuracy_list([history_refined4], \"Refined Model 4\", legend)\n",
        "plot_loss_accuracy_list([history_refined4], \"Refined Model 4\", legend)"
      ],
      "execution_count": null,
      "outputs": [
        {
          "output_type": "display_data",
          "data": {
            "image/png": "[encoded data removed]",
            "text/plain": [
              "<Figure size 600x400 with 2 Axes>"
            ]
          },
          "metadata": {
            "tags": [],
            "needs_background": "light"
          }
        }
      ]
    },
    {
      "cell_type": "markdown",
      "metadata": {
        "id": "9K_YS00zOrms"
      },
      "source": [
        "We got training and validation results that are closer. No overfitting is observed here.\n",
        "\n",
        "Nevertheless, we will try to improve further by applying the class_weight function to mitigate class imbalance: "
      ]
    },
    {
      "cell_type": "code",
      "metadata": {
        "colab": {
          "base_uri": "https://localhost:8080/"
        },
        "id": "uxGIEYJzPD1c",
        "outputId": "335ff315-c69d-437e-d419-20bbdd61b942"
      },
      "source": [
        "# counting number of samples per class:\n",
        "unique, counts = np.unique(train_df.health, return_counts=True)\n",
        "print(\"Counts:\", dict(zip(unique, counts)), \"\\n\")\n",
        "\n",
        "from sklearn.utils.class_weight import compute_class_weight\n",
        "class_weights = compute_class_weight('balanced', np.unique(train_df.health), train_df.health)\n",
        "train_class_weights = dict(enumerate(class_weights))\n",
        "print(train_class_weights, \"\\n\")\n"
      ],
      "execution_count": null,
      "outputs": [
        {
          "output_type": "stream",
          "text": [
            "Counts: {'Varroa, Small Hive Beetles': 302, 'ant problems': 293, 'few varrao, hive beetles': 370, 'healthy': 2165, 'hive being robbed': 161, 'missing queen': 18} \n",
            "\n",
            "{0: 1.826158940397351, 1: 1.8822525597269624, 2: 1.4905405405405405, 3: 0.25473441108545036, 4: 3.4254658385093166, 5: 30.63888888888889} \n",
            "\n"
          ],
          "name": "stdout"
        }
      ]
    },
    {
      "cell_type": "code",
      "metadata": {
        "colab": {
          "base_uri": "https://localhost:8080/"
        },
        "id": "00aJug_PGRRR",
        "outputId": "b6dddcbd-5bb0-4c56-dc3e-2247c12850e7"
      },
      "source": [
        "model_refined5 = Sequential()\n",
        "\n",
        "model_refined5.add(Conv2D(10,3,3, input_shape=(100,100,3)))\n",
        "model_refined5.add(BatchNormalization())\n",
        "model_refined5.add(Activation(\"relu\"))\n",
        "model_refined5.add(MaxPooling2D(pool_size=(2,2),padding=\"SAME\"))\n",
        "\n",
        "model_refined5.add(Conv2D(20,3,3, activation=\"relu\"))\n",
        "model_refined5.add(BatchNormalization())\n",
        "model_refined5.add(Activation(\"relu\"))\n",
        "model_refined5.add(MaxPooling2D(pool_size=(2,2),padding=\"SAME\"))\n",
        "\n",
        "model_refined5.add(Flatten())\n",
        "model_refined5.add(Dense(200, activation=\"relu\"))\n",
        "model_refined5.add(Dropout(0.2))\n",
        "model_refined5.add(Dense(6, activation=\"softmax\"))\n",
        "model_refined5.summary()\n",
        "\n",
        "model_refined5.compile(optimizer=optimizers.Adam(lr=0.00006), loss=\"categorical_crossentropy\",metrics=[\"accuracy\"])\n",
        "history_refined5=model_refined5.fit(train_batch,validation_data=valid_batch,epochs=80,class_weight=train_class_weights)#we pass the class weights"
      ],
      "execution_count": null,
      "outputs": [
        {
          "output_type": "stream",
          "text": [
            "Model: \"sequential_5\"\n",
            "_________________________________________________________________\n",
            "Layer (type)                 Output Shape              Param #   \n",
            "=================================================================\n",
            "conv2d_6 (Conv2D)            (None, 33, 33, 10)        280       \n",
            "_________________________________________________________________\n",
            "batch_normalization_3 (Batch (None, 33, 33, 10)        40        \n",
            "_________________________________________________________________\n",
            "activation_3 (Activation)    (None, 33, 33, 10)        0         \n",
            "_________________________________________________________________\n",
            "max_pooling2d_6 (MaxPooling2 (None, 17, 17, 10)        0         \n",
            "_________________________________________________________________\n",
            "conv2d_7 (Conv2D)            (None, 5, 5, 20)          1820      \n",
            "_________________________________________________________________\n",
            "batch_normalization_4 (Batch (None, 5, 5, 20)          80        \n",
            "_________________________________________________________________\n",
            "activation_4 (Activation)    (None, 5, 5, 20)          0         \n",
            "_________________________________________________________________\n",
            "max_pooling2d_7 (MaxPooling2 (None, 3, 3, 20)          0         \n",
            "_________________________________________________________________\n",
            "flatten_5 (Flatten)          (None, 180)               0         \n",
            "_________________________________________________________________\n",
            "dense_9 (Dense)              (None, 200)               36200     \n",
            "_________________________________________________________________\n",
            "dropout_4 (Dropout)          (None, 200)               0         \n",
            "_________________________________________________________________\n",
            "dense_10 (Dense)             (None, 6)                 1206      \n",
            "=================================================================\n",
            "Total params: 39,626\n",
            "Trainable params: 39,566\n",
            "Non-trainable params: 60\n",
            "_________________________________________________________________\n",
            "Epoch 1/80\n",
            "104/104 [==============================] - 1s 8ms/step - loss: 2.2558 - accuracy: 0.1240 - val_loss: 1.7787 - val_accuracy: 0.1329\n",
            "Epoch 2/80\n",
            "104/104 [==============================] - 1s 7ms/step - loss: 1.7719 - accuracy: 0.2755 - val_loss: 1.7165 - val_accuracy: 0.3152\n",
            "Epoch 3/80\n",
            "104/104 [==============================] - 1s 7ms/step - loss: 1.4876 - accuracy: 0.3891 - val_loss: 1.5615 - val_accuracy: 0.4010\n",
            "Epoch 4/80\n",
            "104/104 [==============================] - 1s 7ms/step - loss: 1.3005 - accuracy: 0.4262 - val_loss: 1.3715 - val_accuracy: 0.4589\n",
            "Epoch 5/80\n",
            "104/104 [==============================] - 1s 7ms/step - loss: 1.2224 - accuracy: 0.4598 - val_loss: 1.2690 - val_accuracy: 0.4843\n",
            "Epoch 6/80\n",
            "104/104 [==============================] - 1s 7ms/step - loss: 1.1729 - accuracy: 0.4928 - val_loss: 1.1542 - val_accuracy: 0.5326\n",
            "Epoch 7/80\n",
            "104/104 [==============================] - 1s 7ms/step - loss: 1.0545 - accuracy: 0.5288 - val_loss: 1.1680 - val_accuracy: 0.5217\n",
            "Epoch 8/80\n",
            "104/104 [==============================] - 1s 7ms/step - loss: 1.0419 - accuracy: 0.5548 - val_loss: 1.0753 - val_accuracy: 0.5471\n",
            "Epoch 9/80\n",
            "104/104 [==============================] - 1s 7ms/step - loss: 0.9441 - accuracy: 0.5692 - val_loss: 1.0322 - val_accuracy: 0.5700\n",
            "Epoch 10/80\n",
            "104/104 [==============================] - 1s 7ms/step - loss: 0.9236 - accuracy: 0.5958 - val_loss: 0.9760 - val_accuracy: 0.6063\n",
            "Epoch 11/80\n",
            "104/104 [==============================] - 1s 7ms/step - loss: 0.8324 - accuracy: 0.6086 - val_loss: 0.9346 - val_accuracy: 0.6341\n",
            "Epoch 12/80\n",
            "104/104 [==============================] - 1s 7ms/step - loss: 0.7992 - accuracy: 0.6477 - val_loss: 0.8570 - val_accuracy: 0.6715\n",
            "Epoch 13/80\n",
            "104/104 [==============================] - 1s 7ms/step - loss: 0.7710 - accuracy: 0.6548 - val_loss: 0.8928 - val_accuracy: 0.6473\n",
            "Epoch 14/80\n",
            "104/104 [==============================] - 1s 7ms/step - loss: 0.7186 - accuracy: 0.6433 - val_loss: 0.8276 - val_accuracy: 0.6932\n",
            "Epoch 15/80\n",
            "104/104 [==============================] - 1s 7ms/step - loss: 0.7302 - accuracy: 0.6639 - val_loss: 0.7929 - val_accuracy: 0.7089\n",
            "Epoch 16/80\n",
            "104/104 [==============================] - 1s 7ms/step - loss: 0.7222 - accuracy: 0.6780 - val_loss: 0.7627 - val_accuracy: 0.7186\n",
            "Epoch 17/80\n",
            "104/104 [==============================] - 1s 7ms/step - loss: 0.6402 - accuracy: 0.7006 - val_loss: 0.7216 - val_accuracy: 0.7379\n",
            "Epoch 18/80\n",
            "104/104 [==============================] - 1s 7ms/step - loss: 0.5972 - accuracy: 0.7183 - val_loss: 0.7202 - val_accuracy: 0.7391\n",
            "Epoch 19/80\n",
            "104/104 [==============================] - 1s 7ms/step - loss: 0.6371 - accuracy: 0.7102 - val_loss: 0.7224 - val_accuracy: 0.7319\n",
            "Epoch 20/80\n",
            "104/104 [==============================] - 1s 7ms/step - loss: 0.5909 - accuracy: 0.7183 - val_loss: 0.6720 - val_accuracy: 0.7500\n",
            "Epoch 21/80\n",
            "104/104 [==============================] - 1s 7ms/step - loss: 0.5761 - accuracy: 0.7203 - val_loss: 0.6583 - val_accuracy: 0.7512\n",
            "Epoch 22/80\n",
            "104/104 [==============================] - 1s 7ms/step - loss: 0.5413 - accuracy: 0.7419 - val_loss: 0.6668 - val_accuracy: 0.7500\n",
            "Epoch 23/80\n",
            "104/104 [==============================] - 1s 7ms/step - loss: 0.5847 - accuracy: 0.7290 - val_loss: 0.6503 - val_accuracy: 0.7488\n",
            "Epoch 24/80\n",
            "104/104 [==============================] - 1s 7ms/step - loss: 0.5063 - accuracy: 0.7599 - val_loss: 0.6385 - val_accuracy: 0.7597\n",
            "Epoch 25/80\n",
            "104/104 [==============================] - 1s 7ms/step - loss: 0.4966 - accuracy: 0.7472 - val_loss: 0.6179 - val_accuracy: 0.7681\n",
            "Epoch 26/80\n",
            "104/104 [==============================] - 1s 7ms/step - loss: 0.4924 - accuracy: 0.7633 - val_loss: 0.6271 - val_accuracy: 0.7645\n",
            "Epoch 27/80\n",
            "104/104 [==============================] - 1s 7ms/step - loss: 0.5025 - accuracy: 0.7402 - val_loss: 0.5951 - val_accuracy: 0.7717\n",
            "Epoch 28/80\n",
            "104/104 [==============================] - 1s 7ms/step - loss: 0.4736 - accuracy: 0.7641 - val_loss: 0.5976 - val_accuracy: 0.7681\n",
            "Epoch 29/80\n",
            "104/104 [==============================] - 1s 7ms/step - loss: 0.4841 - accuracy: 0.7685 - val_loss: 0.5629 - val_accuracy: 0.7850\n",
            "Epoch 30/80\n",
            "104/104 [==============================] - 1s 7ms/step - loss: 0.4549 - accuracy: 0.7799 - val_loss: 0.5522 - val_accuracy: 0.7874\n",
            "Epoch 31/80\n",
            "104/104 [==============================] - 1s 7ms/step - loss: 0.4442 - accuracy: 0.7873 - val_loss: 0.5569 - val_accuracy: 0.7862\n",
            "Epoch 32/80\n",
            "104/104 [==============================] - 1s 7ms/step - loss: 0.4337 - accuracy: 0.7768 - val_loss: 0.5373 - val_accuracy: 0.7899\n",
            "Epoch 33/80\n",
            "104/104 [==============================] - 1s 7ms/step - loss: 0.4213 - accuracy: 0.7961 - val_loss: 0.5129 - val_accuracy: 0.7971\n",
            "Epoch 34/80\n",
            "104/104 [==============================] - 1s 7ms/step - loss: 0.3958 - accuracy: 0.8164 - val_loss: 0.5334 - val_accuracy: 0.7886\n",
            "Epoch 35/80\n",
            "104/104 [==============================] - 1s 7ms/step - loss: 0.4216 - accuracy: 0.8016 - val_loss: 0.5198 - val_accuracy: 0.8007\n",
            "Epoch 36/80\n",
            "104/104 [==============================] - 1s 7ms/step - loss: 0.4099 - accuracy: 0.8034 - val_loss: 0.4889 - val_accuracy: 0.8128\n",
            "Epoch 37/80\n",
            "104/104 [==============================] - 1s 7ms/step - loss: 0.4104 - accuracy: 0.8092 - val_loss: 0.4840 - val_accuracy: 0.8140\n",
            "Epoch 38/80\n",
            "104/104 [==============================] - 1s 7ms/step - loss: 0.3659 - accuracy: 0.8137 - val_loss: 0.4874 - val_accuracy: 0.8080\n",
            "Epoch 39/80\n",
            "104/104 [==============================] - 1s 8ms/step - loss: 0.3520 - accuracy: 0.8072 - val_loss: 0.4864 - val_accuracy: 0.8164\n",
            "Epoch 40/80\n",
            "104/104 [==============================] - 1s 7ms/step - loss: 0.3573 - accuracy: 0.8289 - val_loss: 0.4828 - val_accuracy: 0.8104\n",
            "Epoch 41/80\n",
            "104/104 [==============================] - 1s 7ms/step - loss: 0.3706 - accuracy: 0.7964 - val_loss: 0.4501 - val_accuracy: 0.8200\n",
            "Epoch 42/80\n",
            "104/104 [==============================] - 1s 7ms/step - loss: 0.3520 - accuracy: 0.8180 - val_loss: 0.4319 - val_accuracy: 0.8357\n",
            "Epoch 43/80\n",
            "104/104 [==============================] - 1s 7ms/step - loss: 0.3548 - accuracy: 0.8281 - val_loss: 0.4794 - val_accuracy: 0.8152\n",
            "Epoch 44/80\n",
            "104/104 [==============================] - 1s 7ms/step - loss: 0.3614 - accuracy: 0.8134 - val_loss: 0.4272 - val_accuracy: 0.8321\n",
            "Epoch 45/80\n",
            "104/104 [==============================] - 1s 7ms/step - loss: 0.3308 - accuracy: 0.8337 - val_loss: 0.4333 - val_accuracy: 0.8321\n",
            "Epoch 46/80\n",
            "104/104 [==============================] - 1s 7ms/step - loss: 0.3357 - accuracy: 0.8298 - val_loss: 0.4293 - val_accuracy: 0.8333\n",
            "Epoch 47/80\n",
            "104/104 [==============================] - 1s 7ms/step - loss: 0.3138 - accuracy: 0.8545 - val_loss: 0.4129 - val_accuracy: 0.8418\n",
            "Epoch 48/80\n",
            "104/104 [==============================] - 1s 7ms/step - loss: 0.3145 - accuracy: 0.8420 - val_loss: 0.4135 - val_accuracy: 0.8430\n",
            "Epoch 49/80\n",
            "104/104 [==============================] - 1s 7ms/step - loss: 0.3075 - accuracy: 0.8581 - val_loss: 0.4408 - val_accuracy: 0.8309\n",
            "Epoch 50/80\n",
            "104/104 [==============================] - 1s 7ms/step - loss: 0.2936 - accuracy: 0.8639 - val_loss: 0.4066 - val_accuracy: 0.8490\n",
            "Epoch 51/80\n",
            "104/104 [==============================] - 1s 7ms/step - loss: 0.2887 - accuracy: 0.8626 - val_loss: 0.4356 - val_accuracy: 0.8430\n",
            "Epoch 52/80\n",
            "104/104 [==============================] - 1s 7ms/step - loss: 0.2856 - accuracy: 0.8579 - val_loss: 0.4115 - val_accuracy: 0.8466\n",
            "Epoch 53/80\n",
            "104/104 [==============================] - 1s 7ms/step - loss: 0.2761 - accuracy: 0.8491 - val_loss: 0.3846 - val_accuracy: 0.8575\n",
            "Epoch 54/80\n",
            "104/104 [==============================] - 1s 7ms/step - loss: 0.2866 - accuracy: 0.8753 - val_loss: 0.3854 - val_accuracy: 0.8551\n",
            "Epoch 55/80\n",
            "104/104 [==============================] - 1s 7ms/step - loss: 0.2818 - accuracy: 0.8868 - val_loss: 0.3947 - val_accuracy: 0.8454\n",
            "Epoch 56/80\n",
            "104/104 [==============================] - 1s 7ms/step - loss: 0.2749 - accuracy: 0.8738 - val_loss: 0.3718 - val_accuracy: 0.8623\n",
            "Epoch 57/80\n",
            "104/104 [==============================] - 1s 7ms/step - loss: 0.2728 - accuracy: 0.8761 - val_loss: 0.3816 - val_accuracy: 0.8563\n",
            "Epoch 58/80\n",
            "104/104 [==============================] - 1s 7ms/step - loss: 0.2635 - accuracy: 0.8813 - val_loss: 0.3568 - val_accuracy: 0.8599\n",
            "Epoch 59/80\n",
            "104/104 [==============================] - 1s 7ms/step - loss: 0.2608 - accuracy: 0.8799 - val_loss: 0.3518 - val_accuracy: 0.8599\n",
            "Epoch 60/80\n",
            "104/104 [==============================] - 1s 7ms/step - loss: 0.2538 - accuracy: 0.8916 - val_loss: 0.3588 - val_accuracy: 0.8623\n",
            "Epoch 61/80\n",
            "104/104 [==============================] - 1s 7ms/step - loss: 0.2641 - accuracy: 0.8847 - val_loss: 0.3618 - val_accuracy: 0.8575\n",
            "Epoch 62/80\n",
            "104/104 [==============================] - 1s 7ms/step - loss: 0.2349 - accuracy: 0.9004 - val_loss: 0.3703 - val_accuracy: 0.8514\n",
            "Epoch 63/80\n",
            "104/104 [==============================] - 1s 7ms/step - loss: 0.2420 - accuracy: 0.8949 - val_loss: 0.3508 - val_accuracy: 0.8599\n",
            "Epoch 64/80\n",
            "104/104 [==============================] - 1s 7ms/step - loss: 0.2466 - accuracy: 0.8868 - val_loss: 0.3398 - val_accuracy: 0.8671\n",
            "Epoch 65/80\n",
            "104/104 [==============================] - 1s 7ms/step - loss: 0.2406 - accuracy: 0.8986 - val_loss: 0.3364 - val_accuracy: 0.8599\n",
            "Epoch 66/80\n",
            "104/104 [==============================] - 1s 7ms/step - loss: 0.2264 - accuracy: 0.9048 - val_loss: 0.3396 - val_accuracy: 0.8623\n",
            "Epoch 67/80\n",
            "104/104 [==============================] - 1s 7ms/step - loss: 0.2344 - accuracy: 0.9045 - val_loss: 0.3471 - val_accuracy: 0.8575\n",
            "Epoch 68/80\n",
            "104/104 [==============================] - 1s 7ms/step - loss: 0.2312 - accuracy: 0.8954 - val_loss: 0.3378 - val_accuracy: 0.8696\n",
            "Epoch 69/80\n",
            "104/104 [==============================] - 1s 7ms/step - loss: 0.2292 - accuracy: 0.8985 - val_loss: 0.3309 - val_accuracy: 0.8635\n",
            "Epoch 70/80\n",
            "104/104 [==============================] - 1s 7ms/step - loss: 0.2297 - accuracy: 0.8934 - val_loss: 0.3360 - val_accuracy: 0.8587\n",
            "Epoch 71/80\n",
            "104/104 [==============================] - 1s 7ms/step - loss: 0.2080 - accuracy: 0.9102 - val_loss: 0.3165 - val_accuracy: 0.8647\n",
            "Epoch 72/80\n",
            "104/104 [==============================] - 1s 7ms/step - loss: 0.2112 - accuracy: 0.9145 - val_loss: 0.3156 - val_accuracy: 0.8732\n",
            "Epoch 73/80\n",
            "104/104 [==============================] - 1s 7ms/step - loss: 0.2091 - accuracy: 0.9056 - val_loss: 0.3311 - val_accuracy: 0.8659\n",
            "Epoch 74/80\n",
            "104/104 [==============================] - 1s 7ms/step - loss: 0.2108 - accuracy: 0.9097 - val_loss: 0.3360 - val_accuracy: 0.8623\n",
            "Epoch 75/80\n",
            "104/104 [==============================] - 1s 7ms/step - loss: 0.2110 - accuracy: 0.9093 - val_loss: 0.3218 - val_accuracy: 0.8756\n",
            "Epoch 76/80\n",
            "104/104 [==============================] - 1s 7ms/step - loss: 0.2037 - accuracy: 0.9170 - val_loss: 0.2939 - val_accuracy: 0.8877\n",
            "Epoch 77/80\n",
            "104/104 [==============================] - 1s 7ms/step - loss: 0.1970 - accuracy: 0.9215 - val_loss: 0.3050 - val_accuracy: 0.8877\n",
            "Epoch 78/80\n",
            "104/104 [==============================] - 1s 7ms/step - loss: 0.1977 - accuracy: 0.9179 - val_loss: 0.3160 - val_accuracy: 0.8684\n",
            "Epoch 79/80\n",
            "104/104 [==============================] - 1s 7ms/step - loss: 0.1977 - accuracy: 0.9193 - val_loss: 0.3163 - val_accuracy: 0.8720\n",
            "Epoch 80/80\n",
            "104/104 [==============================] - 1s 7ms/step - loss: 0.1859 - accuracy: 0.9232 - val_loss: 0.3027 - val_accuracy: 0.8792\n"
          ],
          "name": "stdout"
        }
      ]
    },
    {
      "cell_type": "code",
      "metadata": {
        "colab": {
          "base_uri": "https://localhost:8080/",
          "height": 385
        },
        "id": "Ezk65gs6JPTM",
        "outputId": "1e868a76-e8e4-415d-c15d-5f61c1181fbf"
      },
      "source": [
        "plot_loss_accuracy_list([history_refined5], \"Refined Model 5\", legend)"
      ],
      "execution_count": null,
      "outputs": [
        {
          "output_type": "display_data",
          "data": {
            "image/png": "[encoded data removed]",
            "text/plain": [
              "<Figure size 600x400 with 2 Axes>"
            ]
          },
          "metadata": {
            "tags": [],
            "needs_background": "light"
          }
        }
      ]
    },
    {
      "cell_type": "markdown",
      "metadata": {
        "id": "WdukoyFMU-wF"
      },
      "source": [
        "Finally, we applied data augmentation since we are working with a relative small dataset. \n",
        "\n",
        "\n",
        "\n"
      ]
    },
    {
      "cell_type": "code",
      "metadata": {
        "id": "UOCEcZbGU94q"
      },
      "source": [
        "train_batch_aug = ImageDataGenerator(\n",
        "      rotation_range=20,\n",
        "      width_shift_range=0.2,\n",
        "      height_shift_range=0.2,\n",
        "      shear_range=0.2,\n",
        "      zoom_range=0.2,\n",
        "      horizontal_flip=True,\n",
        "      vertical_flip=True,\n",
        "      fill_mode='nearest').flow(X_train, y_train, batch_size=32)"
      ],
      "execution_count": null,
      "outputs": []
    },
    {
      "cell_type": "code",
      "metadata": {
        "colab": {
          "base_uri": "https://localhost:8080/"
        },
        "id": "rBTqSBEjg86r",
        "outputId": "03130fb7-2d3c-455f-d4a5-f63db6a0ba19"
      },
      "source": [
        "model_refined6 = Sequential()\n",
        "\n",
        "model_refined6.add(Conv2D(10,3,3, input_shape=(100,100,3)))\n",
        "model_refined6.add(BatchNormalization())\n",
        "model_refined6.add(Activation(\"relu\"))\n",
        "model_refined6.add(MaxPooling2D(pool_size=(2,2),padding=\"SAME\"))\n",
        "\n",
        "model_refined6.add(Conv2D(20,3,3, activation=\"relu\"))\n",
        "model_refined6.add(BatchNormalization())\n",
        "model_refined6.add(Activation(\"relu\"))\n",
        "model_refined6.add(MaxPooling2D(pool_size=(2,2),padding=\"SAME\"))\n",
        "\n",
        "model_refined6.add(Flatten())\n",
        "model_refined6.add(Dense(200, activation=\"relu\"))\n",
        "model_refined6.add(Dropout(0.2))\n",
        "model_refined6.add(Dense(6, activation=\"softmax\"))\n",
        "model_refined6.summary()\n",
        "\n",
        "model_refined6.compile(optimizer=optimizers.Adam(lr=0.0001), loss=\"categorical_crossentropy\",metrics=[\"accuracy\"])\n",
        "history_refined6=model_refined6.fit(train_batch_aug,validation_data=valid_batch,epochs=80)"
      ],
      "execution_count": null,
      "outputs": [
        {
          "output_type": "stream",
          "text": [
            "Model: \"sequential_6\"\n",
            "_________________________________________________________________\n",
            "Layer (type)                 Output Shape              Param #   \n",
            "=================================================================\n",
            "conv2d_8 (Conv2D)            (None, 33, 33, 10)        280       \n",
            "_________________________________________________________________\n",
            "batch_normalization_5 (Batch (None, 33, 33, 10)        40        \n",
            "_________________________________________________________________\n",
            "activation_5 (Activation)    (None, 33, 33, 10)        0         \n",
            "_________________________________________________________________\n",
            "max_pooling2d_8 (MaxPooling2 (None, 17, 17, 10)        0         \n",
            "_________________________________________________________________\n",
            "conv2d_9 (Conv2D)            (None, 5, 5, 20)          1820      \n",
            "_________________________________________________________________\n",
            "batch_normalization_6 (Batch (None, 5, 5, 20)          80        \n",
            "_________________________________________________________________\n",
            "activation_6 (Activation)    (None, 5, 5, 20)          0         \n",
            "_________________________________________________________________\n",
            "max_pooling2d_9 (MaxPooling2 (None, 3, 3, 20)          0         \n",
            "_________________________________________________________________\n",
            "flatten_6 (Flatten)          (None, 180)               0         \n",
            "_________________________________________________________________\n",
            "dense_11 (Dense)             (None, 200)               36200     \n",
            "_________________________________________________________________\n",
            "dropout_5 (Dropout)          (None, 200)               0         \n",
            "_________________________________________________________________\n",
            "dense_12 (Dense)             (None, 6)                 1206      \n",
            "=================================================================\n",
            "Total params: 39,626\n",
            "Trainable params: 39,566\n",
            "Non-trainable params: 60\n",
            "_________________________________________________________________\n",
            "Epoch 1/80\n",
            "104/104 [==============================] - 8s 75ms/step - loss: 1.6461 - accuracy: 0.4540 - val_loss: 1.6154 - val_accuracy: 0.6510\n",
            "Epoch 2/80\n",
            "104/104 [==============================] - 7s 72ms/step - loss: 1.0117 - accuracy: 0.6608 - val_loss: 1.4741 - val_accuracy: 0.6570\n",
            "Epoch 3/80\n",
            "104/104 [==============================] - 7s 72ms/step - loss: 0.8351 - accuracy: 0.7223 - val_loss: 1.1287 - val_accuracy: 0.6908\n",
            "Epoch 4/80\n",
            "104/104 [==============================] - 8s 73ms/step - loss: 0.7195 - accuracy: 0.7486 - val_loss: 0.8630 - val_accuracy: 0.7343\n",
            "Epoch 5/80\n",
            "104/104 [==============================] - 8s 74ms/step - loss: 0.6544 - accuracy: 0.7734 - val_loss: 0.6948 - val_accuracy: 0.7814\n",
            "Epoch 6/80\n",
            "104/104 [==============================] - 8s 73ms/step - loss: 0.6118 - accuracy: 0.7664 - val_loss: 0.5803 - val_accuracy: 0.7959\n",
            "Epoch 7/80\n",
            "104/104 [==============================] - 8s 72ms/step - loss: 0.5714 - accuracy: 0.7829 - val_loss: 0.5329 - val_accuracy: 0.7995\n",
            "Epoch 8/80\n",
            "104/104 [==============================] - 8s 73ms/step - loss: 0.5731 - accuracy: 0.7768 - val_loss: 0.5026 - val_accuracy: 0.8031\n",
            "Epoch 9/80\n",
            "104/104 [==============================] - 7s 72ms/step - loss: 0.5333 - accuracy: 0.7985 - val_loss: 0.4690 - val_accuracy: 0.8056\n",
            "Epoch 10/80\n",
            "104/104 [==============================] - 8s 72ms/step - loss: 0.4948 - accuracy: 0.8001 - val_loss: 0.4402 - val_accuracy: 0.8273\n",
            "Epoch 11/80\n",
            "104/104 [==============================] - 7s 71ms/step - loss: 0.4937 - accuracy: 0.8037 - val_loss: 0.5022 - val_accuracy: 0.7935\n",
            "Epoch 12/80\n",
            "104/104 [==============================] - 7s 71ms/step - loss: 0.4543 - accuracy: 0.8273 - val_loss: 0.4385 - val_accuracy: 0.8116\n",
            "Epoch 13/80\n",
            "104/104 [==============================] - 7s 71ms/step - loss: 0.4344 - accuracy: 0.8232 - val_loss: 0.3920 - val_accuracy: 0.8297\n",
            "Epoch 14/80\n",
            "104/104 [==============================] - 7s 71ms/step - loss: 0.4387 - accuracy: 0.8232 - val_loss: 0.3749 - val_accuracy: 0.8430\n",
            "Epoch 15/80\n",
            "104/104 [==============================] - 7s 71ms/step - loss: 0.4221 - accuracy: 0.8248 - val_loss: 0.3659 - val_accuracy: 0.8406\n",
            "Epoch 16/80\n",
            "104/104 [==============================] - 7s 71ms/step - loss: 0.4130 - accuracy: 0.8390 - val_loss: 0.3611 - val_accuracy: 0.8370\n",
            "Epoch 17/80\n",
            "104/104 [==============================] - 7s 71ms/step - loss: 0.4408 - accuracy: 0.8128 - val_loss: 0.3693 - val_accuracy: 0.8333\n",
            "Epoch 18/80\n",
            "104/104 [==============================] - 7s 71ms/step - loss: 0.4146 - accuracy: 0.8248 - val_loss: 0.3423 - val_accuracy: 0.8454\n",
            "Epoch 19/80\n",
            "104/104 [==============================] - 7s 72ms/step - loss: 0.4008 - accuracy: 0.8389 - val_loss: 0.3372 - val_accuracy: 0.8478\n",
            "Epoch 20/80\n",
            "104/104 [==============================] - 7s 71ms/step - loss: 0.3720 - accuracy: 0.8387 - val_loss: 0.3491 - val_accuracy: 0.8514\n",
            "Epoch 21/80\n",
            "104/104 [==============================] - 7s 71ms/step - loss: 0.3875 - accuracy: 0.8470 - val_loss: 0.3351 - val_accuracy: 0.8611\n",
            "Epoch 22/80\n",
            "104/104 [==============================] - 7s 71ms/step - loss: 0.3791 - accuracy: 0.8330 - val_loss: 0.3208 - val_accuracy: 0.8623\n",
            "Epoch 23/80\n",
            "104/104 [==============================] - 7s 71ms/step - loss: 0.3737 - accuracy: 0.8471 - val_loss: 0.3337 - val_accuracy: 0.8587\n",
            "Epoch 24/80\n",
            "104/104 [==============================] - 7s 71ms/step - loss: 0.3635 - accuracy: 0.8453 - val_loss: 0.3148 - val_accuracy: 0.8623\n",
            "Epoch 25/80\n",
            "104/104 [==============================] - 7s 71ms/step - loss: 0.3430 - accuracy: 0.8536 - val_loss: 0.3038 - val_accuracy: 0.8829\n",
            "Epoch 26/80\n",
            "104/104 [==============================] - 7s 72ms/step - loss: 0.3597 - accuracy: 0.8453 - val_loss: 0.3118 - val_accuracy: 0.8780\n",
            "Epoch 27/80\n",
            "104/104 [==============================] - 7s 72ms/step - loss: 0.3562 - accuracy: 0.8507 - val_loss: 0.3079 - val_accuracy: 0.8744\n",
            "Epoch 28/80\n",
            "104/104 [==============================] - 7s 71ms/step - loss: 0.3428 - accuracy: 0.8454 - val_loss: 0.2850 - val_accuracy: 0.8877\n",
            "Epoch 29/80\n",
            "104/104 [==============================] - 8s 73ms/step - loss: 0.3342 - accuracy: 0.8449 - val_loss: 0.3045 - val_accuracy: 0.8937\n",
            "Epoch 30/80\n",
            "104/104 [==============================] - 7s 72ms/step - loss: 0.3400 - accuracy: 0.8549 - val_loss: 0.2859 - val_accuracy: 0.8768\n",
            "Epoch 31/80\n",
            "104/104 [==============================] - 7s 71ms/step - loss: 0.3155 - accuracy: 0.8640 - val_loss: 0.2849 - val_accuracy: 0.8829\n",
            "Epoch 32/80\n",
            "104/104 [==============================] - 7s 71ms/step - loss: 0.3432 - accuracy: 0.8434 - val_loss: 0.2860 - val_accuracy: 0.8841\n",
            "Epoch 33/80\n",
            "104/104 [==============================] - 7s 70ms/step - loss: 0.3404 - accuracy: 0.8465 - val_loss: 0.3871 - val_accuracy: 0.8478\n",
            "Epoch 34/80\n",
            "104/104 [==============================] - 7s 70ms/step - loss: 0.3244 - accuracy: 0.8594 - val_loss: 0.2839 - val_accuracy: 0.8792\n",
            "Epoch 35/80\n",
            "104/104 [==============================] - 7s 70ms/step - loss: 0.3380 - accuracy: 0.8487 - val_loss: 0.2700 - val_accuracy: 0.8853\n",
            "Epoch 36/80\n",
            "104/104 [==============================] - 7s 71ms/step - loss: 0.3122 - accuracy: 0.8609 - val_loss: 0.2649 - val_accuracy: 0.8937\n",
            "Epoch 37/80\n",
            "104/104 [==============================] - 7s 71ms/step - loss: 0.2948 - accuracy: 0.8696 - val_loss: 0.2647 - val_accuracy: 0.8973\n",
            "Epoch 38/80\n",
            "104/104 [==============================] - 7s 71ms/step - loss: 0.3045 - accuracy: 0.8612 - val_loss: 0.2864 - val_accuracy: 0.8841\n",
            "Epoch 39/80\n",
            "104/104 [==============================] - 7s 71ms/step - loss: 0.3132 - accuracy: 0.8649 - val_loss: 0.2684 - val_accuracy: 0.8889\n",
            "Epoch 40/80\n",
            "104/104 [==============================] - 7s 71ms/step - loss: 0.2996 - accuracy: 0.8762 - val_loss: 0.2743 - val_accuracy: 0.8937\n",
            "Epoch 41/80\n",
            "104/104 [==============================] - 7s 71ms/step - loss: 0.2977 - accuracy: 0.8673 - val_loss: 0.2617 - val_accuracy: 0.8901\n",
            "Epoch 42/80\n",
            "104/104 [==============================] - 7s 71ms/step - loss: 0.2822 - accuracy: 0.8681 - val_loss: 0.2597 - val_accuracy: 0.9022\n",
            "Epoch 43/80\n",
            "104/104 [==============================] - 7s 71ms/step - loss: 0.3091 - accuracy: 0.8696 - val_loss: 0.2592 - val_accuracy: 0.8998\n",
            "Epoch 44/80\n",
            "104/104 [==============================] - 7s 71ms/step - loss: 0.2902 - accuracy: 0.8658 - val_loss: 0.2568 - val_accuracy: 0.8901\n",
            "Epoch 45/80\n",
            "104/104 [==============================] - 7s 71ms/step - loss: 0.2895 - accuracy: 0.8715 - val_loss: 0.2593 - val_accuracy: 0.8973\n",
            "Epoch 46/80\n",
            "104/104 [==============================] - 8s 72ms/step - loss: 0.2804 - accuracy: 0.8728 - val_loss: 0.2547 - val_accuracy: 0.9046\n",
            "Epoch 47/80\n",
            "104/104 [==============================] - 8s 74ms/step - loss: 0.2694 - accuracy: 0.8790 - val_loss: 0.2582 - val_accuracy: 0.9022\n",
            "Epoch 48/80\n",
            "104/104 [==============================] - 7s 71ms/step - loss: 0.2837 - accuracy: 0.8813 - val_loss: 0.2508 - val_accuracy: 0.9046\n",
            "Epoch 49/80\n",
            "104/104 [==============================] - 7s 71ms/step - loss: 0.2980 - accuracy: 0.8606 - val_loss: 0.2537 - val_accuracy: 0.8986\n",
            "Epoch 50/80\n",
            "104/104 [==============================] - 7s 71ms/step - loss: 0.3162 - accuracy: 0.8616 - val_loss: 0.2410 - val_accuracy: 0.9022\n",
            "Epoch 51/80\n",
            "104/104 [==============================] - 7s 72ms/step - loss: 0.2800 - accuracy: 0.8785 - val_loss: 0.2417 - val_accuracy: 0.8901\n",
            "Epoch 52/80\n",
            "104/104 [==============================] - 7s 70ms/step - loss: 0.2748 - accuracy: 0.8709 - val_loss: 0.2378 - val_accuracy: 0.9010\n",
            "Epoch 53/80\n",
            "104/104 [==============================] - 7s 71ms/step - loss: 0.2704 - accuracy: 0.8760 - val_loss: 0.2336 - val_accuracy: 0.9046\n",
            "Epoch 54/80\n",
            "104/104 [==============================] - 7s 71ms/step - loss: 0.2697 - accuracy: 0.8767 - val_loss: 0.2415 - val_accuracy: 0.9010\n",
            "Epoch 55/80\n",
            "104/104 [==============================] - 7s 71ms/step - loss: 0.2576 - accuracy: 0.8917 - val_loss: 0.2302 - val_accuracy: 0.9070\n",
            "Epoch 56/80\n",
            "104/104 [==============================] - 7s 70ms/step - loss: 0.2896 - accuracy: 0.8633 - val_loss: 0.2320 - val_accuracy: 0.9022\n",
            "Epoch 57/80\n",
            "104/104 [==============================] - 7s 71ms/step - loss: 0.2634 - accuracy: 0.8830 - val_loss: 0.2284 - val_accuracy: 0.9118\n",
            "Epoch 58/80\n",
            "104/104 [==============================] - 7s 70ms/step - loss: 0.2657 - accuracy: 0.8844 - val_loss: 0.2250 - val_accuracy: 0.9130\n",
            "Epoch 59/80\n",
            "104/104 [==============================] - 7s 71ms/step - loss: 0.2562 - accuracy: 0.8801 - val_loss: 0.2297 - val_accuracy: 0.9058\n",
            "Epoch 60/80\n",
            "104/104 [==============================] - 7s 70ms/step - loss: 0.2796 - accuracy: 0.8712 - val_loss: 0.2315 - val_accuracy: 0.8961\n",
            "Epoch 61/80\n",
            "104/104 [==============================] - 7s 71ms/step - loss: 0.2573 - accuracy: 0.8872 - val_loss: 0.2509 - val_accuracy: 0.8961\n",
            "Epoch 62/80\n",
            "104/104 [==============================] - 7s 72ms/step - loss: 0.2472 - accuracy: 0.8898 - val_loss: 0.2234 - val_accuracy: 0.9058\n",
            "Epoch 63/80\n",
            "104/104 [==============================] - 7s 71ms/step - loss: 0.2681 - accuracy: 0.8770 - val_loss: 0.2262 - val_accuracy: 0.9082\n",
            "Epoch 64/80\n",
            "104/104 [==============================] - 7s 71ms/step - loss: 0.2504 - accuracy: 0.8886 - val_loss: 0.2270 - val_accuracy: 0.9046\n",
            "Epoch 65/80\n",
            "104/104 [==============================] - 7s 71ms/step - loss: 0.2790 - accuracy: 0.8715 - val_loss: 0.2232 - val_accuracy: 0.9094\n",
            "Epoch 66/80\n",
            "104/104 [==============================] - 7s 70ms/step - loss: 0.2751 - accuracy: 0.8768 - val_loss: 0.2342 - val_accuracy: 0.9034\n",
            "Epoch 67/80\n",
            "104/104 [==============================] - 7s 71ms/step - loss: 0.2607 - accuracy: 0.8792 - val_loss: 0.2310 - val_accuracy: 0.8986\n",
            "Epoch 68/80\n",
            "104/104 [==============================] - 7s 71ms/step - loss: 0.2446 - accuracy: 0.8911 - val_loss: 0.2381 - val_accuracy: 0.8973\n",
            "Epoch 69/80\n",
            "104/104 [==============================] - 7s 71ms/step - loss: 0.2517 - accuracy: 0.8843 - val_loss: 0.2160 - val_accuracy: 0.9130\n",
            "Epoch 70/80\n",
            "104/104 [==============================] - 7s 71ms/step - loss: 0.2695 - accuracy: 0.8808 - val_loss: 0.2443 - val_accuracy: 0.8973\n",
            "Epoch 71/80\n",
            "104/104 [==============================] - 7s 71ms/step - loss: 0.2391 - accuracy: 0.8915 - val_loss: 0.2325 - val_accuracy: 0.8829\n",
            "Epoch 72/80\n",
            "104/104 [==============================] - 7s 71ms/step - loss: 0.2500 - accuracy: 0.8820 - val_loss: 0.2257 - val_accuracy: 0.9034\n",
            "Epoch 73/80\n",
            "104/104 [==============================] - 7s 72ms/step - loss: 0.2462 - accuracy: 0.8815 - val_loss: 0.2129 - val_accuracy: 0.9118\n",
            "Epoch 74/80\n",
            "104/104 [==============================] - 7s 71ms/step - loss: 0.2572 - accuracy: 0.8888 - val_loss: 0.2147 - val_accuracy: 0.9010\n",
            "Epoch 75/80\n",
            "104/104 [==============================] - 7s 71ms/step - loss: 0.2499 - accuracy: 0.8913 - val_loss: 0.2768 - val_accuracy: 0.8901\n",
            "Epoch 76/80\n",
            "104/104 [==============================] - 7s 71ms/step - loss: 0.2512 - accuracy: 0.8860 - val_loss: 0.2245 - val_accuracy: 0.8998\n",
            "Epoch 77/80\n",
            "104/104 [==============================] - 7s 70ms/step - loss: 0.2301 - accuracy: 0.8934 - val_loss: 0.2070 - val_accuracy: 0.9010\n",
            "Epoch 78/80\n",
            "104/104 [==============================] - 7s 70ms/step - loss: 0.2299 - accuracy: 0.8939 - val_loss: 0.2178 - val_accuracy: 0.9034\n",
            "Epoch 79/80\n",
            "104/104 [==============================] - 7s 71ms/step - loss: 0.2342 - accuracy: 0.8950 - val_loss: 0.2137 - val_accuracy: 0.9106\n",
            "Epoch 80/80\n",
            "104/104 [==============================] - 7s 70ms/step - loss: 0.2588 - accuracy: 0.8785 - val_loss: 0.2200 - val_accuracy: 0.9046\n"
          ],
          "name": "stdout"
        }
      ]
    },
    {
      "cell_type": "code",
      "metadata": {
        "colab": {
          "base_uri": "https://localhost:8080/",
          "height": 385
        },
        "id": "00kNvD0nhmu2",
        "outputId": "75599814-add3-4d47-c8c6-ae6c941601c7"
      },
      "source": [
        "plot_loss_accuracy_list([history_refined6], \"Refined Model 6\", legend)"
      ],
      "execution_count": null,
      "outputs": [
        {
          "output_type": "display_data",
          "data": {
            "image/png": "[encoded data removed]",
            "text/plain": [
              "<Figure size 600x400 with 2 Axes>"
            ]
          },
          "metadata": {
            "tags": [],
            "needs_background": "light"
          }
        }
      ]
    },
    {
      "cell_type": "markdown",
      "metadata": {
        "id": "DAsmzeoQLoFi"
      },
      "source": [
        "#Test set evaluation\r\n"
      ]
    },
    {
      "cell_type": "code",
      "metadata": {
        "colab": {
          "base_uri": "https://localhost:8080/"
        },
        "id": "QL3k5jY9LiLR",
        "outputId": "e8b50d65-8d55-4ec8-d622-65691dc124e5"
      },
      "source": [
        "score = model_refined4.evaluate(test_batch,verbose=1)\r\n",
        "print('Test loss:', score[0])\r\n",
        "print('Test acc:', score[1])"
      ],
      "execution_count": null,
      "outputs": [
        {
          "output_type": "stream",
          "text": [
            "33/33 [==============================] - 0s 4ms/step - loss: 0.2120 - accuracy: 0.9150\n",
            "Test loss: 0.21197612583637238\n",
            "Test acc: 0.9149758219718933\n"
          ],
          "name": "stdout"
        }
      ]
    }
  ]
}