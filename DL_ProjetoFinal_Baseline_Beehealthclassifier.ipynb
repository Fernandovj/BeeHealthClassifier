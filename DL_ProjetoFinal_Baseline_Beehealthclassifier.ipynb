{
  "nbformat": 4,
  "nbformat_minor": 0,
  "metadata": {
    "kernelspec": {
      "language": "python",
      "display_name": "Python 3",
      "name": "python3"
    },
    "language_info": {
      "pygments_lexer": "ipython3",
      "nbconvert_exporter": "python",
      "version": "3.6.4",
      "file_extension": ".py",
      "codemirror_mode": {
        "name": "ipython",
        "version": 3
      },
      "name": "python",
      "mimetype": "text/x-python"
    },
    "colab": {
      "name": "DL-ProjetoFinal_Baseline_Beehealthclassifier.ipynb",
      "provenance": [],
      "collapsed_sections": [],
      "include_colab_link": true
    },
    "accelerator": "GPU"
  },
  "cells": [
    {
      "cell_type": "markdown",
      "metadata": {
        "id": "view-in-github",
        "colab_type": "text"
      },
      "source": [
        "<a href=\"https://colab.research.google.com/github/Fernandovj/BeeHealthClassifier/blob/main/DL_ProjetoFinal_Baseline_Beehealthclassifier.ipynb\" target=\"_parent\"><img src=\"https://colab.research.google.com/assets/colab-badge.svg\" alt=\"Open In Colab\"/></a>"
      ]
    },
    {
      "cell_type": "markdown",
      "metadata": {
        "id": "TkYbWToTFFX2"
      },
      "source": [
        "# **Load the packages, load and inspect the data**"
      ]
    },
    {
      "cell_type": "code",
      "metadata": {
        "id": "BahCvIkmvvwy"
      },
      "source": [
        "# Import PyDrive and associated libraries.\r\n",
        "# This only needs to be done once per notebook.\r\n",
        "from pydrive.auth import GoogleAuth\r\n",
        "from pydrive.drive import GoogleDrive\r\n",
        "from google.colab import auth\r\n",
        "from oauth2client.client import GoogleCredentials\r\n",
        "\r\n",
        "# Authenticate and create the PyDrive client.\r\n",
        "# This only needs to be done once per notebook.\r\n",
        "auth.authenticate_user()\r\n",
        "gauth = GoogleAuth()\r\n",
        "gauth.credentials = GoogleCredentials.get_application_default()\r\n",
        "drive = GoogleDrive(gauth)\r\n",
        "\r\n",
        "# Download a file based on its file ID.\r\n",
        "# file_id ='1a-GaQxHLWsNk_xVUxI6gPR5akagk9_vB' #ID Colab/bees/bees.zip\r\n",
        "file_id ='1cZT0QTaMMRs_mPghOOAF9-WcvuZ1duZp' #ID Colab/bees/bees.zip\r\n",
        "\r\n",
        "downloaded = drive.CreateFile({'id': file_id})\r\n",
        "downloaded.GetContentFile('bees.zip')\r\n",
        "!unzip -q bees.zip"
      ],
      "execution_count": null,
      "outputs": []
    },
    {
      "cell_type": "code",
      "metadata": {
        "id": "GagWVJrPGDkD"
      },
      "source": [
        "# !rm -rf /content/bee_imgs/"
      ],
      "execution_count": null,
      "outputs": []
    },
    {
      "cell_type": "code",
      "metadata": {
        "colab": {
          "base_uri": "https://localhost:8080/",
          "height": 17
        },
        "id": "s5CA5pXcKYe3",
        "outputId": "90ca67c6-2fc7-467c-8353-f0869937b9c4"
      },
      "source": [
        "%matplotlib inline\r\n",
        "import csv\r\n",
        "from random import shuffle\r\n",
        "import cv2 #to read images\r\n",
        "import tensorflow as tf\r\n",
        "from tensorflow import keras\r\n",
        "from tensorflow.keras import layers, models\r\n",
        "from tensorflow.keras.preprocessing.image import ImageDataGenerator, load_img\r\n",
        "from matplotlib import pyplot as plt\r\n",
        "import pandas as pd\r\n",
        "import numpy as np\r\n",
        "import seaborn as sns\r\n",
        "import os\r\n",
        "import sys\r\n",
        "\r\n",
        "import imageio\r\n",
        "import skimage\r\n",
        "import skimage.io\r\n",
        "import skimage.transform\r\n",
        "\r\n",
        "import seaborn as sns\r\n",
        "import plotly.graph_objs as go\r\n",
        "import plotly.figure_factory as ff\r\n",
        "from plotly import tools\r\n",
        "from plotly.offline import download_plotlyjs, init_notebook_mode, plot, iplot\r\n",
        "init_notebook_mode(connected=True)\r\n",
        "\r\n",
        "from sklearn.model_selection import train_test_split\r\n",
        "from sklearn import metrics\r\n",
        "from keras import optimizers\r\n",
        "from keras.models import Sequential\r\n",
        "from keras.layers import Dense, Conv2D, Flatten, MaxPooling2D, Dropout, BatchNormalization,LeakyReLU, Activation\r\n",
        "from keras.preprocessing.image import ImageDataGenerator\r\n",
        "from keras import callbacks"
      ],
      "execution_count": null,
      "outputs": [
        {
          "output_type": "display_data",
          "data": {
            "text/html": [
              "        <script type=\"text/javascript\">\n",
              "        window.PlotlyConfig = {MathJaxConfig: 'local'};\n",
              "        if (window.MathJax) {MathJax.Hub.Config({SVG: {font: \"STIX-Web\"}});}\n",
              "        if (typeof require !== 'undefined') {\n",
              "        require.undef(\"plotly\");\n",
              "        requirejs.config({\n",
              "            paths: {\n",
              "                'plotly': ['https://cdn.plot.ly/plotly-latest.min']\n",
              "            }\n",
              "        });\n",
              "        require(['plotly'], function(Plotly) {\n",
              "            window._Plotly = Plotly;\n",
              "        });\n",
              "        }\n",
              "        </script>\n",
              "        "
            ]
          },
          "metadata": {
            "tags": []
          }
        }
      ]
    },
    {
      "cell_type": "code",
      "metadata": {
        "_uuid": "d629ff2d2480ee46fbb7e2d37f6b5fab8052498a",
        "_cell_guid": "79c7e3d0-c299-4dcb-8224-4455121ee9b0",
        "trusted": true,
        "id": "fHcsc7Qzqd1N"
      },
      "source": [
        "IMG_PATH = '/content/bee_imgs/bee_imgs'\n"
      ],
      "execution_count": null,
      "outputs": []
    },
    {
      "cell_type": "code",
      "metadata": {
        "colab": {
          "base_uri": "https://localhost:8080/",
          "height": 206
        },
        "id": "T26XPjIyKbkl",
        "outputId": "fbd3abcd-e0a9-44c5-c008-ae2e0ba27032"
      },
      "source": [
        "bee_df=pd.read_csv('/content/bee_data.csv')\r\n",
        "bee_df.shape\r\n",
        "bee_df.sample(10).head()"
      ],
      "execution_count": null,
      "outputs": [
        {
          "output_type": "execute_result",
          "data": {
            "text/html": [
              "<div>\n",
              "<style scoped>\n",
              "    .dataframe tbody tr th:only-of-type {\n",
              "        vertical-align: middle;\n",
              "    }\n",
              "\n",
              "    .dataframe tbody tr th {\n",
              "        vertical-align: top;\n",
              "    }\n",
              "\n",
              "    .dataframe thead th {\n",
              "        text-align: right;\n",
              "    }\n",
              "</style>\n",
              "<table border=\"1\" class=\"dataframe\">\n",
              "  <thead>\n",
              "    <tr style=\"text-align: right;\">\n",
              "      <th></th>\n",
              "      <th>file</th>\n",
              "      <th>date</th>\n",
              "      <th>time</th>\n",
              "      <th>location</th>\n",
              "      <th>zip code</th>\n",
              "      <th>subspecies</th>\n",
              "      <th>health</th>\n",
              "      <th>pollen_carrying</th>\n",
              "      <th>caste</th>\n",
              "    </tr>\n",
              "  </thead>\n",
              "  <tbody>\n",
              "    <tr>\n",
              "      <th>3631</th>\n",
              "      <td>001_051.png</td>\n",
              "      <td>8/25/18</td>\n",
              "      <td>14:00</td>\n",
              "      <td>Keene, NH, USA</td>\n",
              "      <td>3431</td>\n",
              "      <td>Russian honey bee</td>\n",
              "      <td>healthy</td>\n",
              "      <td>False</td>\n",
              "      <td>worker</td>\n",
              "    </tr>\n",
              "    <tr>\n",
              "      <th>2973</th>\n",
              "      <td>010_706.png</td>\n",
              "      <td>8/19/18</td>\n",
              "      <td>12:46</td>\n",
              "      <td>Des Moines, IA, USA</td>\n",
              "      <td>50315</td>\n",
              "      <td>Carniolan honey bee</td>\n",
              "      <td>healthy</td>\n",
              "      <td>False</td>\n",
              "      <td>worker</td>\n",
              "    </tr>\n",
              "    <tr>\n",
              "      <th>2719</th>\n",
              "      <td>010_137.png</td>\n",
              "      <td>8/19/18</td>\n",
              "      <td>12:46</td>\n",
              "      <td>Des Moines, IA, USA</td>\n",
              "      <td>50315</td>\n",
              "      <td>Carniolan honey bee</td>\n",
              "      <td>healthy</td>\n",
              "      <td>False</td>\n",
              "      <td>worker</td>\n",
              "    </tr>\n",
              "    <tr>\n",
              "      <th>173</th>\n",
              "      <td>017_126.png</td>\n",
              "      <td>8/6/18</td>\n",
              "      <td>13:21</td>\n",
              "      <td>Saratoga, CA, USA</td>\n",
              "      <td>95070</td>\n",
              "      <td>Italian honey bee</td>\n",
              "      <td>healthy</td>\n",
              "      <td>False</td>\n",
              "      <td>worker</td>\n",
              "    </tr>\n",
              "    <tr>\n",
              "      <th>3412</th>\n",
              "      <td>015_1195.png</td>\n",
              "      <td>8/6/18</td>\n",
              "      <td>13:19</td>\n",
              "      <td>Saratoga, CA, USA</td>\n",
              "      <td>95070</td>\n",
              "      <td>Italian honey bee</td>\n",
              "      <td>healthy</td>\n",
              "      <td>False</td>\n",
              "      <td>worker</td>\n",
              "    </tr>\n",
              "  </tbody>\n",
              "</table>\n",
              "</div>"
            ],
            "text/plain": [
              "              file     date   time  ...   health  pollen_carrying   caste\n",
              "3631   001_051.png  8/25/18  14:00  ...  healthy            False  worker\n",
              "2973   010_706.png  8/19/18  12:46  ...  healthy            False  worker\n",
              "2719   010_137.png  8/19/18  12:46  ...  healthy            False  worker\n",
              "173    017_126.png   8/6/18  13:21  ...  healthy            False  worker\n",
              "3412  015_1195.png   8/6/18  13:19  ...  healthy            False  worker\n",
              "\n",
              "[5 rows x 9 columns]"
            ]
          },
          "metadata": {
            "tags": []
          },
          "execution_count": 5
        }
      ]
    },
    {
      "cell_type": "markdown",
      "metadata": {
        "id": "Dph35-x8Icis"
      },
      "source": [
        "The data contains the following values:\r\n",
        "\r\n",
        "    file - the image file name;\r\n",
        "    date - the date when the picture was taken;\r\n",
        "    time - the time when the picture was taken;\r\n",
        "    location - the US location, with city, state and country names;\r\n",
        "    zip code - the ZIP code associated with the location;\r\n",
        "    subspecies - the subspecies to whom the bee in the current image belongs;\r\n",
        "    health - this is the health state of the bee in the current image;\r\n",
        "    pollen_carrying - indicates if the picture shows the bee with pollen attached to the legs;\r\n",
        "    caste - the bee caste;\r\n"
      ]
    },
    {
      "cell_type": "markdown",
      "metadata": {
        "id": "d_5BPuNqJImm"
      },
      "source": [
        "**Check the missing data**"
      ]
    },
    {
      "cell_type": "code",
      "metadata": {
        "colab": {
          "base_uri": "https://localhost:8080/",
          "height": 332
        },
        "id": "dgnCjQX2JFDz",
        "outputId": "7b942474-187b-433e-85cb-890424293006"
      },
      "source": [
        "def missing_data(data):\r\n",
        "    total = data.isnull().sum().sort_values(ascending = False)\r\n",
        "    percent = (data.isnull().sum()/data.isnull().count()*100).sort_values(ascending = False)\r\n",
        "    return pd.concat([total, percent], axis=1, keys=['Total', '%'])\r\n",
        "missing_data(bee_df)"
      ],
      "execution_count": null,
      "outputs": [
        {
          "output_type": "execute_result",
          "data": {
            "text/html": [
              "<div>\n",
              "<style scoped>\n",
              "    .dataframe tbody tr th:only-of-type {\n",
              "        vertical-align: middle;\n",
              "    }\n",
              "\n",
              "    .dataframe tbody tr th {\n",
              "        vertical-align: top;\n",
              "    }\n",
              "\n",
              "    .dataframe thead th {\n",
              "        text-align: right;\n",
              "    }\n",
              "</style>\n",
              "<table border=\"1\" class=\"dataframe\">\n",
              "  <thead>\n",
              "    <tr style=\"text-align: right;\">\n",
              "      <th></th>\n",
              "      <th>Total</th>\n",
              "      <th>%</th>\n",
              "    </tr>\n",
              "  </thead>\n",
              "  <tbody>\n",
              "    <tr>\n",
              "      <th>caste</th>\n",
              "      <td>0</td>\n",
              "      <td>0.0</td>\n",
              "    </tr>\n",
              "    <tr>\n",
              "      <th>pollen_carrying</th>\n",
              "      <td>0</td>\n",
              "      <td>0.0</td>\n",
              "    </tr>\n",
              "    <tr>\n",
              "      <th>health</th>\n",
              "      <td>0</td>\n",
              "      <td>0.0</td>\n",
              "    </tr>\n",
              "    <tr>\n",
              "      <th>subspecies</th>\n",
              "      <td>0</td>\n",
              "      <td>0.0</td>\n",
              "    </tr>\n",
              "    <tr>\n",
              "      <th>zip code</th>\n",
              "      <td>0</td>\n",
              "      <td>0.0</td>\n",
              "    </tr>\n",
              "    <tr>\n",
              "      <th>location</th>\n",
              "      <td>0</td>\n",
              "      <td>0.0</td>\n",
              "    </tr>\n",
              "    <tr>\n",
              "      <th>time</th>\n",
              "      <td>0</td>\n",
              "      <td>0.0</td>\n",
              "    </tr>\n",
              "    <tr>\n",
              "      <th>date</th>\n",
              "      <td>0</td>\n",
              "      <td>0.0</td>\n",
              "    </tr>\n",
              "    <tr>\n",
              "      <th>file</th>\n",
              "      <td>0</td>\n",
              "      <td>0.0</td>\n",
              "    </tr>\n",
              "  </tbody>\n",
              "</table>\n",
              "</div>"
            ],
            "text/plain": [
              "                 Total    %\n",
              "caste                0  0.0\n",
              "pollen_carrying      0  0.0\n",
              "health               0  0.0\n",
              "subspecies           0  0.0\n",
              "zip code             0  0.0\n",
              "location             0  0.0\n",
              "time                 0  0.0\n",
              "date                 0  0.0\n",
              "file                 0  0.0"
            ]
          },
          "metadata": {
            "tags": []
          },
          "execution_count": 6
        }
      ]
    },
    {
      "cell_type": "code",
      "metadata": {
        "trusted": true,
        "id": "CnUP03YDqd1U",
        "colab": {
          "base_uri": "https://localhost:8080/"
        },
        "outputId": "6b5091d2-62d9-4f60-a068-71b39bcb095b"
      },
      "source": [
        "image_files = list(os.listdir(IMG_PATH))\n",
        "print(\"Number of image files: {}\".format(len(image_files)))"
      ],
      "execution_count": null,
      "outputs": [
        {
          "output_type": "stream",
          "text": [
            "Number of image files: 5172\n"
          ],
          "name": "stdout"
        }
      ]
    },
    {
      "cell_type": "markdown",
      "metadata": {
        "id": "svclkAoUK3Lv"
      },
      "source": [
        "Checking the image sizes"
      ]
    },
    {
      "cell_type": "code",
      "metadata": {
        "id": "GLC5lxnLK4we"
      },
      "source": [
        "def read_image_sizes(file_name):\r\n",
        "    image = skimage.io.imread(IMG_PATH+'/'+ file_name)\r\n",
        "    return list(image.shape)"
      ],
      "execution_count": null,
      "outputs": []
    },
    {
      "cell_type": "code",
      "metadata": {
        "colab": {
          "base_uri": "https://localhost:8080/",
          "height": 206
        },
        "id": "LY_Bi24dK5iD",
        "outputId": "a830a070-bee2-4d37-a698-a323f15bc38a"
      },
      "source": [
        "m = np.stack(bee_df['file'].apply(read_image_sizes))\r\n",
        "df = pd.DataFrame(m,columns=['w','h','c'])\r\n",
        "bee_df = pd.concat([bee_df,df],axis=1, sort=False)\r\n",
        "bee_df.head()"
      ],
      "execution_count": null,
      "outputs": [
        {
          "output_type": "execute_result",
          "data": {
            "text/html": [
              "<div>\n",
              "<style scoped>\n",
              "    .dataframe tbody tr th:only-of-type {\n",
              "        vertical-align: middle;\n",
              "    }\n",
              "\n",
              "    .dataframe tbody tr th {\n",
              "        vertical-align: top;\n",
              "    }\n",
              "\n",
              "    .dataframe thead th {\n",
              "        text-align: right;\n",
              "    }\n",
              "</style>\n",
              "<table border=\"1\" class=\"dataframe\">\n",
              "  <thead>\n",
              "    <tr style=\"text-align: right;\">\n",
              "      <th></th>\n",
              "      <th>file</th>\n",
              "      <th>date</th>\n",
              "      <th>time</th>\n",
              "      <th>location</th>\n",
              "      <th>zip code</th>\n",
              "      <th>subspecies</th>\n",
              "      <th>health</th>\n",
              "      <th>pollen_carrying</th>\n",
              "      <th>caste</th>\n",
              "      <th>w</th>\n",
              "      <th>h</th>\n",
              "      <th>c</th>\n",
              "    </tr>\n",
              "  </thead>\n",
              "  <tbody>\n",
              "    <tr>\n",
              "      <th>0</th>\n",
              "      <td>041_066.png</td>\n",
              "      <td>8/28/18</td>\n",
              "      <td>16:07</td>\n",
              "      <td>Alvin, TX, USA</td>\n",
              "      <td>77511</td>\n",
              "      <td>-1</td>\n",
              "      <td>hive being robbed</td>\n",
              "      <td>False</td>\n",
              "      <td>worker</td>\n",
              "      <td>115</td>\n",
              "      <td>164</td>\n",
              "      <td>3</td>\n",
              "    </tr>\n",
              "    <tr>\n",
              "      <th>1</th>\n",
              "      <td>041_072.png</td>\n",
              "      <td>8/28/18</td>\n",
              "      <td>16:07</td>\n",
              "      <td>Alvin, TX, USA</td>\n",
              "      <td>77511</td>\n",
              "      <td>-1</td>\n",
              "      <td>hive being robbed</td>\n",
              "      <td>False</td>\n",
              "      <td>worker</td>\n",
              "      <td>201</td>\n",
              "      <td>90</td>\n",
              "      <td>3</td>\n",
              "    </tr>\n",
              "    <tr>\n",
              "      <th>2</th>\n",
              "      <td>041_073.png</td>\n",
              "      <td>8/28/18</td>\n",
              "      <td>16:07</td>\n",
              "      <td>Alvin, TX, USA</td>\n",
              "      <td>77511</td>\n",
              "      <td>-1</td>\n",
              "      <td>hive being robbed</td>\n",
              "      <td>False</td>\n",
              "      <td>worker</td>\n",
              "      <td>132</td>\n",
              "      <td>167</td>\n",
              "      <td>3</td>\n",
              "    </tr>\n",
              "    <tr>\n",
              "      <th>3</th>\n",
              "      <td>041_067.png</td>\n",
              "      <td>8/28/18</td>\n",
              "      <td>16:07</td>\n",
              "      <td>Alvin, TX, USA</td>\n",
              "      <td>77511</td>\n",
              "      <td>-1</td>\n",
              "      <td>hive being robbed</td>\n",
              "      <td>False</td>\n",
              "      <td>worker</td>\n",
              "      <td>134</td>\n",
              "      <td>97</td>\n",
              "      <td>3</td>\n",
              "    </tr>\n",
              "    <tr>\n",
              "      <th>4</th>\n",
              "      <td>041_059.png</td>\n",
              "      <td>8/28/18</td>\n",
              "      <td>16:07</td>\n",
              "      <td>Alvin, TX, USA</td>\n",
              "      <td>77511</td>\n",
              "      <td>-1</td>\n",
              "      <td>hive being robbed</td>\n",
              "      <td>False</td>\n",
              "      <td>worker</td>\n",
              "      <td>147</td>\n",
              "      <td>106</td>\n",
              "      <td>3</td>\n",
              "    </tr>\n",
              "  </tbody>\n",
              "</table>\n",
              "</div>"
            ],
            "text/plain": [
              "          file     date   time        location  ...   caste    w    h  c\n",
              "0  041_066.png  8/28/18  16:07  Alvin, TX, USA  ...  worker  115  164  3\n",
              "1  041_072.png  8/28/18  16:07  Alvin, TX, USA  ...  worker  201   90  3\n",
              "2  041_073.png  8/28/18  16:07  Alvin, TX, USA  ...  worker  132  167  3\n",
              "3  041_067.png  8/28/18  16:07  Alvin, TX, USA  ...  worker  134   97  3\n",
              "4  041_059.png  8/28/18  16:07  Alvin, TX, USA  ...  worker  147  106  3\n",
              "\n",
              "[5 rows x 12 columns]"
            ]
          },
          "metadata": {
            "tags": []
          },
          "execution_count": 9
        }
      ]
    },
    {
      "cell_type": "markdown",
      "metadata": {
        "id": "URa5krHuMrWo"
      },
      "source": [
        "Checking the size distribution of images"
      ]
    },
    {
      "cell_type": "code",
      "metadata": {
        "colab": {
          "base_uri": "https://localhost:8080/",
          "height": 312
        },
        "id": "Pz5LmunDMqPL",
        "outputId": "f296b302-88f4-4202-c08e-46a1131a969c"
      },
      "source": [
        "fig, (ax1,ax2) = plt.subplots(nrows=2)\r\n",
        "ax1.hist(bee_df['h'],bins=4,edgecolor='black')\r\n",
        "ax1.set_ylabel('Number of samples')\r\n",
        "ax1.set_xlabel('Height')\r\n",
        "ax1.set_title('Size image Distribution')\r\n",
        "plt.subplots_adjust(hspace = 0.5)\r\n",
        "ax2.hist(bee_df['w'],bins=4,edgecolor='black')\r\n",
        "ax2.set_ylabel('Number of samples')\r\n",
        "ax2.set_xlabel('Width')"
      ],
      "execution_count": null,
      "outputs": [
        {
          "output_type": "execute_result",
          "data": {
            "text/plain": [
              "Text(0.5, 0, 'Width')"
            ]
          },
          "metadata": {
            "tags": []
          },
          "execution_count": 10
        },
        {
          "output_type": "display_data",
          "data": {
            "image/png": "[encoded data removed]",
            "text/plain": [
              "<Figure size 432x288 with 2 Axes>"
            ]
          },
          "metadata": {
            "tags": [],
            "needs_background": "light"
          }
        }
      ]
    },
    {
      "cell_type": "markdown",
      "metadata": {
        "id": "utQTvHCnT3tD"
      },
      "source": [
        "Health sample distribution"
      ]
    },
    {
      "cell_type": "code",
      "metadata": {
        "colab": {
          "base_uri": "https://localhost:8080/",
          "height": 421
        },
        "id": "vqDW35bYT6qj",
        "outputId": "34b9da9a-3d4f-4ea5-f9ae-caddd36f4915"
      },
      "source": [
        "print(bee_df.health.value_counts())\r\n",
        "print()\r\n",
        "bee_df.health.value_counts().sort_values().plot(kind = 'barh',edgecolor='black')\r\n"
      ],
      "execution_count": null,
      "outputs": [
        {
          "output_type": "stream",
          "text": [
            "healthy                       3384\n",
            "few varrao, hive beetles       579\n",
            "Varroa, Small Hive Beetles     472\n",
            "ant problems                   457\n",
            "hive being robbed              251\n",
            "missing queen                   29\n",
            "Name: health, dtype: int64\n",
            "\n"
          ],
          "name": "stdout"
        },
        {
          "output_type": "execute_result",
          "data": {
            "text/plain": [
              "<matplotlib.axes._subplots.AxesSubplot at 0x7fd4af0255f8>"
            ]
          },
          "metadata": {
            "tags": []
          },
          "execution_count": 11
        },
        {
          "output_type": "display_data",
          "data": {
            "image/png": "[encoded data removed]",
            "text/plain": [
              "<Figure size 432x288 with 1 Axes>"
            ]
          },
          "metadata": {
            "tags": [],
            "needs_background": "light"
          }
        }
      ]
    },
    {
      "cell_type": "markdown",
      "metadata": {
        "id": "7MVZPJvJJERk"
      },
      "source": [
        "Healt sample size distribution"
      ]
    },
    {
      "cell_type": "code",
      "metadata": {
        "colab": {
          "base_uri": "https://localhost:8080/",
          "height": 367
        },
        "id": "Rck1gm1wFcUT",
        "outputId": "0fa77064-da18-4799-ccd4-c30f9e16260f"
      },
      "source": [
        "plt.figure(figsize=(8,5))\r\n",
        "ax =sns.scatterplot(x='h', y='w', data=bee_df, hue=\"health\")\r\n",
        "ax.set(xlabel='Height', ylabel='Width')\r\n",
        "plt.title('Healt sample size distribution')\r\n"
      ],
      "execution_count": null,
      "outputs": [
        {
          "output_type": "execute_result",
          "data": {
            "text/plain": [
              "Text(0.5, 1.0, 'Healt sample size distribution')"
            ]
          },
          "metadata": {
            "tags": []
          },
          "execution_count": 12
        },
        {
          "output_type": "display_data",
          "data": {
            "image/png": "[encoded data removed]",
            "text/plain": [
              "<Figure size 576x360 with 1 Axes>"
            ]
          },
          "metadata": {
            "tags": [],
            "needs_background": "light"
          }
        }
      ]
    },
    {
      "cell_type": "markdown",
      "metadata": {
        "id": "yISVAeo3kwiy"
      },
      "source": [
        "# **BASELINE**"
      ]
    },
    {
      "cell_type": "markdown",
      "metadata": {
        "id": "tHZyNfRbqo7R"
      },
      "source": [
        "**Splitting data**\r\n",
        "\r\n",
        "First, we split the whole dataset in train and test. We will use random_state to ensure reproductibility of results.\r\n",
        "\r\n",
        "The train-test split is 80% for training set and 20% for test set."
      ]
    },
    {
      "cell_type": "code",
      "metadata": {
        "id": "kcdo_Hi6pqzX"
      },
      "source": [
        "train_df, test_df = train_test_split(bee_df, test_size=0.2, random_state=2018,stratify=bee_df['health'])"
      ],
      "execution_count": null,
      "outputs": []
    },
    {
      "cell_type": "markdown",
      "metadata": {
        "id": "jCFGzDlhq2AP"
      },
      "source": [
        "Next, we will split further the train set in train and validation. We want to use as well a validation set to be able to measure not only how well fits the model the train data during training (or how well learns the training data) but also how well the model is able to generalize so that we are able to understands not only the bias but also the variance of the model.\r\n",
        "\r\n",
        "The train-validation split is 80% for training set and 20% for validation set.\r\n"
      ]
    },
    {
      "cell_type": "code",
      "metadata": {
        "id": "upwSawYoqNji"
      },
      "source": [
        "train_df, val_df = train_test_split(train_df, test_size=0.2, random_state=2018, stratify=train_df['health'])\r\n"
      ],
      "execution_count": null,
      "outputs": []
    },
    {
      "cell_type": "code",
      "metadata": {
        "colab": {
          "base_uri": "https://localhost:8080/"
        },
        "id": "CiErAm7UqV99",
        "outputId": "6dd5225f-e76a-4f5e-9509-488a4f5695b8"
      },
      "source": [
        "print(\"Train set samples: {}\".format(train_df.shape[0]))\r\n",
        "print(\"Test  set samples: {}\".format(test_df.shape[0]))\r\n",
        "print(\"Val   set samples: {}\".format(val_df.shape[0]))"
      ],
      "execution_count": null,
      "outputs": [
        {
          "output_type": "stream",
          "text": [
            "Train set samples: 3309\n",
            "Test  set samples: 1035\n",
            "Val   set samples: 828\n"
          ],
          "name": "stdout"
        }
      ]
    },
    {
      "cell_type": "markdown",
      "metadata": {
        "id": "T6_-H6SMrKN_"
      },
      "source": [
        "A function for reading images from the image files, scale all images to 100 x 100\r\n",
        " x 3 (channels)."
      ]
    },
    {
      "cell_type": "code",
      "metadata": {
        "id": "9Tbs_0WGo8CB"
      },
      "source": [
        "def read_image(file_name):\r\n",
        "    image = skimage.io.imread(IMG_PATH +'/'+ file_name)\r\n",
        "    image = skimage.transform.resize(image, (100, 100), mode='reflect')\r\n",
        "    return image[:,:,:3]"
      ],
      "execution_count": null,
      "outputs": []
    },
    {
      "cell_type": "code",
      "metadata": {
        "id": "sNov6y5mo51Z"
      },
      "source": [
        "def categories_encoder(dataset, var='health'):\r\n",
        "    X = np.stack(dataset['file'].apply(read_image))\r\n",
        "    y = pd.get_dummies(dataset[var], drop_first=False)\r\n",
        "    return X, y"
      ],
      "execution_count": null,
      "outputs": []
    },
    {
      "cell_type": "code",
      "metadata": {
        "id": "d-evDhGPrYLJ"
      },
      "source": [
        "X_train, y_train = categories_encoder(train_df)\r\n",
        "X_val, y_val = categories_encoder(val_df)\r\n",
        "X_test, y_test = categories_encoder(test_df)\r\n"
      ],
      "execution_count": null,
      "outputs": []
    },
    {
      "cell_type": "markdown",
      "metadata": {
        "id": "gMkHgBEtuLto"
      },
      "source": [
        "**Define baseline model**"
      ]
    },
    {
      "cell_type": "code",
      "metadata": {
        "colab": {
          "base_uri": "https://localhost:8080/"
        },
        "id": "3lI4BRxKuJyT",
        "outputId": "3dbbdac5-ed8c-4e2c-bf91-49b268234883"
      },
      "source": [
        "\r\n",
        "model_baseline = Sequential()\r\n",
        "model_baseline.add(Conv2D(10,3,3, input_shape=(100,100,3)))\r\n",
        "model_baseline.add(MaxPooling2D(pool_size=(2,2)))\r\n",
        "model_baseline.add(Flatten())\r\n",
        "model_baseline.add(Dense(6, activation=\"softmax\"))\r\n",
        "model_baseline.summary()\r\n",
        "\r\n",
        "#smaller learning rate to optimize better. Default has periodic dips\r\n",
        "model_baseline.compile(optimizer=optimizers.Adam(lr=0.0005), loss=\"categorical_crossentropy\",metrics=[\"accuracy\"])\r\n"
      ],
      "execution_count": null,
      "outputs": [
        {
          "output_type": "stream",
          "text": [
            "Model: \"sequential\"\n",
            "_________________________________________________________________\n",
            "Layer (type)                 Output Shape              Param #   \n",
            "=================================================================\n",
            "conv2d (Conv2D)              (None, 33, 33, 10)        280       \n",
            "_________________________________________________________________\n",
            "max_pooling2d (MaxPooling2D) (None, 16, 16, 10)        0         \n",
            "_________________________________________________________________\n",
            "flatten (Flatten)            (None, 2560)              0         \n",
            "_________________________________________________________________\n",
            "dense (Dense)                (None, 6)                 15366     \n",
            "=================================================================\n",
            "Total params: 15,646\n",
            "Trainable params: 15,646\n",
            "Non-trainable params: 0\n",
            "_________________________________________________________________\n"
          ],
          "name": "stdout"
        }
      ]
    },
    {
      "cell_type": "code",
      "metadata": {
        "id": "1up8Ugg23tBq"
      },
      "source": [
        "train_batch = ImageDataGenerator().flow(X_train, y_train, batch_size=32)\r\n",
        "valid_batch = ImageDataGenerator().flow(X_val, y_val, batch_size=32)"
      ],
      "execution_count": null,
      "outputs": []
    },
    {
      "cell_type": "code",
      "metadata": {
        "colab": {
          "base_uri": "https://localhost:8080/"
        },
        "id": "h7p_9mDsu9ww",
        "outputId": "181a4c0a-6bfb-413d-8aa3-4cace88b0a12"
      },
      "source": [
        "history  = model_baseline.fit(train_batch, validation_data=valid_batch, epochs=50)"
      ],
      "execution_count": null,
      "outputs": [
        {
          "output_type": "stream",
          "text": [
            "Epoch 1/50\n",
            "104/104 [==============================] - 1s 7ms/step - loss: 1.0846 - accuracy: 0.6461 - val_loss: 0.9580 - val_accuracy: 0.6957\n",
            "Epoch 2/50\n",
            "104/104 [==============================] - 1s 6ms/step - loss: 0.8679 - accuracy: 0.6893 - val_loss: 0.7919 - val_accuracy: 0.6944\n",
            "Epoch 3/50\n",
            "104/104 [==============================] - 1s 6ms/step - loss: 0.7500 - accuracy: 0.7165 - val_loss: 0.7008 - val_accuracy: 0.7428\n",
            "Epoch 4/50\n",
            "104/104 [==============================] - 1s 6ms/step - loss: 0.6670 - accuracy: 0.7404 - val_loss: 0.6509 - val_accuracy: 0.7512\n",
            "Epoch 5/50\n",
            "104/104 [==============================] - 1s 6ms/step - loss: 0.6180 - accuracy: 0.7652 - val_loss: 0.6078 - val_accuracy: 0.7778\n",
            "Epoch 6/50\n",
            "104/104 [==============================] - 1s 6ms/step - loss: 0.5753 - accuracy: 0.7809 - val_loss: 0.5856 - val_accuracy: 0.7935\n",
            "Epoch 7/50\n",
            "104/104 [==============================] - 1s 6ms/step - loss: 0.5642 - accuracy: 0.7854 - val_loss: 0.5734 - val_accuracy: 0.7959\n",
            "Epoch 8/50\n",
            "104/104 [==============================] - 1s 6ms/step - loss: 0.5329 - accuracy: 0.8078 - val_loss: 0.6023 - val_accuracy: 0.7669\n",
            "Epoch 9/50\n",
            "104/104 [==============================] - 1s 6ms/step - loss: 0.5065 - accuracy: 0.8147 - val_loss: 0.5502 - val_accuracy: 0.7886\n",
            "Epoch 10/50\n",
            "104/104 [==============================] - 1s 6ms/step - loss: 0.4975 - accuracy: 0.8226 - val_loss: 0.5312 - val_accuracy: 0.8092\n",
            "Epoch 11/50\n",
            "104/104 [==============================] - 1s 6ms/step - loss: 0.4847 - accuracy: 0.8277 - val_loss: 0.5543 - val_accuracy: 0.7959\n",
            "Epoch 12/50\n",
            "104/104 [==============================] - 1s 6ms/step - loss: 0.4690 - accuracy: 0.8308 - val_loss: 0.5318 - val_accuracy: 0.8043\n",
            "Epoch 13/50\n",
            "104/104 [==============================] - 1s 6ms/step - loss: 0.4641 - accuracy: 0.8317 - val_loss: 0.5086 - val_accuracy: 0.8285\n",
            "Epoch 14/50\n",
            "104/104 [==============================] - 1s 6ms/step - loss: 0.4533 - accuracy: 0.8347 - val_loss: 0.5315 - val_accuracy: 0.8225\n",
            "Epoch 15/50\n",
            "104/104 [==============================] - 1s 6ms/step - loss: 0.4460 - accuracy: 0.8398 - val_loss: 0.5204 - val_accuracy: 0.8080\n",
            "Epoch 16/50\n",
            "104/104 [==============================] - 1s 6ms/step - loss: 0.4397 - accuracy: 0.8438 - val_loss: 0.5184 - val_accuracy: 0.8140\n",
            "Epoch 17/50\n",
            "104/104 [==============================] - 1s 6ms/step - loss: 0.4280 - accuracy: 0.8456 - val_loss: 0.5014 - val_accuracy: 0.8176\n",
            "Epoch 18/50\n",
            "104/104 [==============================] - 1s 6ms/step - loss: 0.4199 - accuracy: 0.8447 - val_loss: 0.4889 - val_accuracy: 0.8273\n",
            "Epoch 19/50\n",
            "104/104 [==============================] - 1s 6ms/step - loss: 0.4136 - accuracy: 0.8531 - val_loss: 0.5199 - val_accuracy: 0.8225\n",
            "Epoch 20/50\n",
            "104/104 [==============================] - 1s 6ms/step - loss: 0.4142 - accuracy: 0.8492 - val_loss: 0.5133 - val_accuracy: 0.8176\n",
            "Epoch 21/50\n",
            "104/104 [==============================] - 1s 6ms/step - loss: 0.3949 - accuracy: 0.8640 - val_loss: 0.5093 - val_accuracy: 0.8188\n",
            "Epoch 22/50\n",
            "104/104 [==============================] - 1s 6ms/step - loss: 0.4017 - accuracy: 0.8540 - val_loss: 0.5302 - val_accuracy: 0.8164\n",
            "Epoch 23/50\n",
            "104/104 [==============================] - 1s 6ms/step - loss: 0.4026 - accuracy: 0.8513 - val_loss: 0.4788 - val_accuracy: 0.8285\n",
            "Epoch 24/50\n",
            "104/104 [==============================] - 1s 6ms/step - loss: 0.3839 - accuracy: 0.8561 - val_loss: 0.4712 - val_accuracy: 0.8309\n",
            "Epoch 25/50\n",
            "104/104 [==============================] - 1s 6ms/step - loss: 0.3723 - accuracy: 0.8667 - val_loss: 0.5000 - val_accuracy: 0.8140\n",
            "Epoch 26/50\n",
            "104/104 [==============================] - 1s 6ms/step - loss: 0.3695 - accuracy: 0.8652 - val_loss: 0.4778 - val_accuracy: 0.8345\n",
            "Epoch 27/50\n",
            "104/104 [==============================] - 1s 6ms/step - loss: 0.3620 - accuracy: 0.8725 - val_loss: 0.4810 - val_accuracy: 0.8321\n",
            "Epoch 28/50\n",
            "104/104 [==============================] - 1s 6ms/step - loss: 0.3717 - accuracy: 0.8643 - val_loss: 0.5091 - val_accuracy: 0.8128\n",
            "Epoch 29/50\n",
            "104/104 [==============================] - 1s 6ms/step - loss: 0.3638 - accuracy: 0.8670 - val_loss: 0.4744 - val_accuracy: 0.8406\n",
            "Epoch 30/50\n",
            "104/104 [==============================] - 1s 6ms/step - loss: 0.3473 - accuracy: 0.8800 - val_loss: 0.4905 - val_accuracy: 0.8237\n",
            "Epoch 31/50\n",
            "104/104 [==============================] - 1s 6ms/step - loss: 0.3440 - accuracy: 0.8764 - val_loss: 0.4949 - val_accuracy: 0.8152\n",
            "Epoch 32/50\n",
            "104/104 [==============================] - 1s 6ms/step - loss: 0.3513 - accuracy: 0.8785 - val_loss: 0.4813 - val_accuracy: 0.8406\n",
            "Epoch 33/50\n",
            "104/104 [==============================] - 1s 6ms/step - loss: 0.3470 - accuracy: 0.8685 - val_loss: 0.5045 - val_accuracy: 0.8213\n",
            "Epoch 34/50\n",
            "104/104 [==============================] - 1s 6ms/step - loss: 0.3416 - accuracy: 0.8785 - val_loss: 0.4625 - val_accuracy: 0.8430\n",
            "Epoch 35/50\n",
            "104/104 [==============================] - 1s 6ms/step - loss: 0.3326 - accuracy: 0.8797 - val_loss: 0.4512 - val_accuracy: 0.8490\n",
            "Epoch 36/50\n",
            "104/104 [==============================] - 1s 6ms/step - loss: 0.3475 - accuracy: 0.8746 - val_loss: 0.5024 - val_accuracy: 0.8309\n",
            "Epoch 37/50\n",
            "104/104 [==============================] - 1s 6ms/step - loss: 0.3307 - accuracy: 0.8833 - val_loss: 0.4523 - val_accuracy: 0.8418\n",
            "Epoch 38/50\n",
            "104/104 [==============================] - 1s 6ms/step - loss: 0.3130 - accuracy: 0.8915 - val_loss: 0.5236 - val_accuracy: 0.8140\n",
            "Epoch 39/50\n",
            "104/104 [==============================] - 1s 6ms/step - loss: 0.3188 - accuracy: 0.8858 - val_loss: 0.4616 - val_accuracy: 0.8382\n",
            "Epoch 40/50\n",
            "104/104 [==============================] - 1s 6ms/step - loss: 0.3177 - accuracy: 0.8852 - val_loss: 0.4669 - val_accuracy: 0.8430\n",
            "Epoch 41/50\n",
            "104/104 [==============================] - 1s 6ms/step - loss: 0.3254 - accuracy: 0.8812 - val_loss: 0.4649 - val_accuracy: 0.8249\n",
            "Epoch 42/50\n",
            "104/104 [==============================] - 1s 6ms/step - loss: 0.3107 - accuracy: 0.8873 - val_loss: 0.4586 - val_accuracy: 0.8430\n",
            "Epoch 43/50\n",
            "104/104 [==============================] - 1s 6ms/step - loss: 0.3043 - accuracy: 0.8915 - val_loss: 0.4584 - val_accuracy: 0.8321\n",
            "Epoch 44/50\n",
            "104/104 [==============================] - 1s 6ms/step - loss: 0.3017 - accuracy: 0.8939 - val_loss: 0.4739 - val_accuracy: 0.8430\n",
            "Epoch 45/50\n",
            "104/104 [==============================] - 1s 6ms/step - loss: 0.3010 - accuracy: 0.8921 - val_loss: 0.4647 - val_accuracy: 0.8370\n",
            "Epoch 46/50\n",
            "104/104 [==============================] - 1s 6ms/step - loss: 0.2987 - accuracy: 0.8927 - val_loss: 0.4647 - val_accuracy: 0.8478\n",
            "Epoch 47/50\n",
            "104/104 [==============================] - 1s 6ms/step - loss: 0.2941 - accuracy: 0.8972 - val_loss: 0.4501 - val_accuracy: 0.8514\n",
            "Epoch 48/50\n",
            "104/104 [==============================] - 1s 6ms/step - loss: 0.2959 - accuracy: 0.8963 - val_loss: 0.4676 - val_accuracy: 0.8430\n",
            "Epoch 49/50\n",
            "104/104 [==============================] - 1s 6ms/step - loss: 0.2845 - accuracy: 0.8988 - val_loss: 0.4763 - val_accuracy: 0.8333\n",
            "Epoch 50/50\n",
            "104/104 [==============================] - 1s 6ms/step - loss: 0.2917 - accuracy: 0.8936 - val_loss: 0.5195 - val_accuracy: 0.8140\n"
          ],
          "name": "stdout"
        }
      ]
    },
    {
      "cell_type": "code",
      "metadata": {
        "id": "hJ7v5WhikJRx"
      },
      "source": [
        "#Auxiliar fuctions for plotting:\r\n",
        "\r\n",
        "def plot_loss_accuracy_list(historyList, title, legend, plotSet=\"both\", acc=\"accuracy\"):\r\n",
        "    linestyles = ['-', '--', ':', '-.']\r\n",
        "    fig, (ax1, ax2) = plt.subplots(nrows=2, sharex=True, dpi=100)\r\n",
        "\r\n",
        "    #Plot Loss\r\n",
        "    for idx,hist in enumerate(historyList):\r\n",
        "        if plotSet in [\"train\", \"both\"]:\r\n",
        "            ax1.plot(hist.history['loss'], linestyle=linestyles[idx%len(linestyles)])\r\n",
        "        if 'val_loss' in hist.history.keys() and plotSet in [\"valid\", \"both\"]:\r\n",
        "            ax1.plot(hist.history['val_loss'], linestyle=linestyles[idx%len(linestyles)])\r\n",
        "    ax1.set_ylabel('Loss')\r\n",
        "    ax1.set_title(title)\r\n",
        "\r\n",
        "    #Plot ACC\r\n",
        "    for idx,hist in enumerate(historyList):\r\n",
        "      if plotSet in [\"train\", \"both\"]:\r\n",
        "          ax2.plot(hist.history[acc], linestyle=linestyles[idx%len(linestyles)])\r\n",
        "      if 'val_'+acc in hist.history.keys() and plotSet in [\"valid\", \"both\"]:\r\n",
        "          ax2.plot(hist.history['val_'+acc], linestyle=linestyles[idx%len(linestyles)])\r\n",
        "    ax2.set_ylabel('ACC')\r\n",
        "    \r\n",
        "    plt.legend(legend, bbox_to_anchor=(1.05, 1), loc='center left') \r\n",
        "    plt.subplots_adjust(right=0.75)\r\n",
        "    plt.show()\r\n"
      ],
      "execution_count": null,
      "outputs": []
    },
    {
      "cell_type": "code",
      "metadata": {
        "id": "tsDEIXEakm0c",
        "colab": {
          "base_uri": "https://localhost:8080/",
          "height": 385
        },
        "outputId": "eadcb27b-1b88-4aaf-8835-e43d6490e0aa"
      },
      "source": [
        "legend = ['Training', 'Validation']\r\n",
        "#print(history.history)\r\n",
        "plot_loss_accuracy_list([history], \"Baseline Model\", legend)"
      ],
      "execution_count": null,
      "outputs": [
        {
          "output_type": "display_data",
          "data": {
            "image/png": "[encoded data removed]",
            "text/plain": [
              "<Figure size 600x400 with 2 Axes>"
            ]
          },
          "metadata": {
            "tags": [],
            "needs_background": "light"
          }
        }
      ]
    }
  ]
}